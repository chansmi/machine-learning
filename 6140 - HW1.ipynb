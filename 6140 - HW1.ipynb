{
 "cells": [
  {
   "cell_type": "markdown",
   "metadata": {},
   "source": []
  },
  {
   "attachments": {},
   "cell_type": "markdown",
   "metadata": {},
   "source": [
    "# HW1\n",
    "## Machine Learning\n",
    "#### Chandler Smith\n",
    "\n",
    "Summary: The purpose of this assignment is to create a model where a feature space and response will change on demand. In other words, create a training set where the strenght between feature space and response can be changed on demand. This enables us to apply various algorithims to understand how they behave in various situations. \n",
    "\n",
    "Cite: Numpy documentation, sklean docs, pandas, and W3Schools. GPT for debugging, Toppr, Machine Learning Mastery.com\n"
   ]
  },
  {
   "cell_type": "code",
   "execution_count": 60,
   "metadata": {},
   "outputs": [],
   "source": [
    "import numpy as np\n",
    "import scipy\n",
    "import pandas as pd\n",
    "import matplotlib.pyplot as plt\n",
    "import sklearn\n",
    "import sklearn.datasets as sd\n",
    "import seaborn as sb"
   ]
  },
  {
   "cell_type": "code",
   "execution_count": 61,
   "metadata": {},
   "outputs": [],
   "source": [
    "# df Setup\n",
    "size = 10000\n",
    "features = 20\n",
    "\n",
    "#Binary categorical generation\n",
    "binary = np.random.randint(2, size=size)\n",
    "# Multiple classes generation - 5 classes\n",
    "multiclass = np.random.randint(0, 5, size)\n",
    "\n",
    "#generate date\n",
    "# C = input samples, Y = output samples\n",
    "X, y = sd.make_regression( size, features, n_informative=15, n_targets=1, bias=0.0, \n",
    "                    effective_rank=None, tail_strength=0.5, noise=0.0, \n",
    "                    shuffle=True, coef=False, random_state=None)\n",
    "X = (X*1000) # increases the range and make them ints\n",
    "\n",
    "#number generation based on X - by using weights from features, I can guarantee coorelation\n",
    "weight = np.random.rand(features)\n",
    "numeric = np.dot(X, weight) + np.random.randint(0, 100, size)\n",
    "\n",
    "# make sure they are all of length size\n",
    "#print(len(y))\n",
    "#print(len(X.T[1]))\n",
    "#print(len(numeric))\n",
    "#print(len(binary))\n",
    "#print(len(multiclass))\n",
    "#print(X.shape)\n",
    "\n",
    "# generate dataframes and populate                                               \n",
    "df = pd.DataFrame(np.column_stack([numeric, binary, multiclass, X]), #transpose x so it fits the df\n",
    "    columns=['Response1', 'Response2', 'Response3'] + [f'Feature{i+1}' for i in range(features)]) # name columns\n"
   ]
  },
  {
   "cell_type": "code",
   "execution_count": 62,
   "metadata": {},
   "outputs": [],
   "source": [
    "## CONVERT TO CATEGORICAL\n",
    "# print(df['Feature5'].head)\n",
    "# remove decimal from categorical columns\n",
    "# I know I could do this faster in Pandas but only recalled that after and this works well!\n",
    "\n",
    "df['Response2'] = df['Response2'].astype(int)\n",
    "df['Response3'] = df['Response3'].astype(int)\n",
    "df['Feature1'] = df['Feature1'].astype(int)\n",
    "df['Feature2'] = df['Feature2'].astype(int)\n",
    "df['Feature3'] = df['Feature3'].astype(int)\n",
    "df['Feature4'] = df['Feature4'].astype(int)\n",
    "df['Feature5'] = df['Feature5'].astype(int)\n",
    "\n",
    "# Convert response to binary and multiclass\n",
    "for index, i in enumerate(df['Response2']):\n",
    "    if (i % 2) == 0:\n",
    "        df.loc[index, 'Response2'] = 0\n",
    "    else:\n",
    "        df.loc[index, 'Response2'] = 1\n",
    "\n",
    "for index, i in enumerate(df['Response3']):\n",
    "    if  i == 0:\n",
    "        df.loc[index, 'Response3'] = 'Water'\n",
    "    elif i == 1:\n",
    "        df.loc[index, 'Response3'] = 'Coffee'\n",
    "    elif i == 2:\n",
    "        df.loc[index, 'Response3'] = 'Tea'\n",
    "    elif i == 3:\n",
    "        df.loc[index, 'Response3'] = 'Orange Juice'\n",
    "    elif i == 4:\n",
    "        df.loc[index, 'Response3'] = 'Whiskey'\n",
    "\n",
    "# Convert features to binary and multiclass\n",
    "for index, i in enumerate(df['Feature1']):\n",
    "    if (i % 2) == 0:\n",
    "        df.loc[index, 'Feature1'] = 'Y'\n",
    "    else:\n",
    "        df.loc[index, 'Feature1'] = 'N'\n",
    "\n",
    "# Repeat for next feature\n",
    "for index, i in enumerate(df['Feature2']):\n",
    "    if i < 0:\n",
    "         df.loc[index, 'Feature2'] = 'Day'\n",
    "    else:\n",
    "        df.loc[index, 'Feature2'] = 'Night'\n",
    "\n",
    "# Repeat for next feature\n",
    "for index, i in enumerate(df['Feature3']):\n",
    "    if i < -333:\n",
    "        df.loc[index, 'Feature3'] = 'Red'\n",
    "    elif i <333:\n",
    "        df.loc[index, 'Feature3'] = 'Green'\n",
    "    elif i <10000:\n",
    "        df.loc[index, 'Feature3'] = 'Blue'\n",
    "\n",
    "# Repeat for next feature\n",
    "for index, i in enumerate(df['Feature4']):\n",
    "    if i < -333:\n",
    "        df.loc[index, 'Feature4'] = 'Male'\n",
    "    elif i < 333:\n",
    "        df.loc[index, 'Feature4'] = 'Female'\n",
    "    elif i < 10000:\n",
    "        df.loc[index, 'Feature4'] = 'Other'\n",
    "\n",
    "# Repeat for next feature\n",
    "for index, i in enumerate(df['Feature5']):\n",
    "    if  i < -333:\n",
    "        df.loc[index, 'Feature5'] = 'Cat'\n",
    "    elif i < 333:\n",
    "        df.loc[index, 'Feature5'] = 'Dog'\n",
    "    elif i < 10000:\n",
    "        df.loc[index, 'Feature5'] = 'Rabbit'\n",
    "\n",
    "#print(df['Feature5'].head)\n",
    "#print(df.head)"
   ]
  },
  {
   "attachments": {},
   "cell_type": "markdown",
   "metadata": {},
   "source": [
    "# Expected Output\n",
    "Here, we will demonstrate the following:\n",
    "- Shape of the Dataframe.\n",
    "- Descriptive statistics and visuals of all three response columns and three features of your choice. \n",
    "- Correlation matrix of the numerical feature space. \n",
    "- Scatterplot depicting the linear correlated nature of the three columns.\n",
    "- Chi-square tests of the responses and categorical features.\n",
    "- T-tests between the three numerical features of your choice and Response 1."
   ]
  },
  {
   "cell_type": "code",
   "execution_count": 63,
   "metadata": {},
   "outputs": [
    {
     "name": "stdout",
     "output_type": "stream",
     "text": [
      "Shape: (10000, 23)\n",
      "\n",
      "Descriptive statistics of Response1:\n",
      "count    10000.000000\n",
      "mean        52.507095\n",
      "std       2339.182890\n",
      "min      -7761.593692\n",
      "25%      -1545.100002\n",
      "50%         70.921768\n",
      "75%       1634.614930\n",
      "max       8504.439939\n",
      "Name: Response1, dtype: float64\n"
     ]
    },
    {
     "data": {
      "image/png": "[encoded data removed]",
      "text/plain": [
       "<Figure size 432x288 with 1 Axes>"
      ]
     },
     "metadata": {
      "needs_background": "light"
     },
     "output_type": "display_data"
    },
    {
     "name": "stdout",
     "output_type": "stream",
     "text": [
      "\n",
      "Descriptive statistics of Response2:\n",
      "count    10000.000000\n",
      "mean         0.499300\n",
      "std          0.500025\n",
      "min          0.000000\n",
      "25%          0.000000\n",
      "50%          0.000000\n",
      "75%          1.000000\n",
      "max          1.000000\n",
      "Name: Response2, dtype: float64\n"
     ]
    },
    {
     "data": {
      "image/png": "[encoded data removed]",
      "text/plain": [
       "<Figure size 432x288 with 1 Axes>"
      ]
     },
     "metadata": {
      "needs_background": "light"
     },
     "output_type": "display_data"
    },
    {
     "name": "stdout",
     "output_type": "stream",
     "text": [
      "\n",
      "Descriptive statistics of Response3:\n",
      "count       10000\n",
      "unique          5\n",
      "top       Whiskey\n",
      "freq         2069\n",
      "Name: Response3, dtype: object\n"
     ]
    },
    {
     "data": {
      "image/png": "[encoded data removed]",
      "text/plain": [
       "<Figure size 432x288 with 1 Axes>"
      ]
     },
     "metadata": {
      "needs_background": "light"
     },
     "output_type": "display_data"
    },
    {
     "name": "stdout",
     "output_type": "stream",
     "text": [
      "\n",
      "Descriptive statistics of Response1:\n",
      "count    10000.000000\n",
      "mean        52.507095\n",
      "std       2339.182890\n",
      "min      -7761.593692\n",
      "25%      -1545.100002\n",
      "50%         70.921768\n",
      "75%       1634.614930\n",
      "max       8504.439939\n",
      "Name: Response1, dtype: float64\n"
     ]
    },
    {
     "data": {
      "image/png": "[encoded data removed]",
      "text/plain": [
       "<Figure size 432x288 with 1 Axes>"
      ]
     },
     "metadata": {
      "needs_background": "light"
     },
     "output_type": "display_data"
    },
    {
     "name": "stdout",
     "output_type": "stream",
     "text": [
      "\n",
      "Descriptive statistics of Response2:\n",
      "count    10000.000000\n",
      "mean         0.499300\n",
      "std          0.500025\n",
      "min          0.000000\n",
      "25%          0.000000\n",
      "50%          0.000000\n",
      "75%          1.000000\n",
      "max          1.000000\n",
      "Name: Response2, dtype: float64\n"
     ]
    },
    {
     "data": {
      "image/png": "[encoded data removed]",
      "text/plain": [
       "<Figure size 432x288 with 1 Axes>"
      ]
     },
     "metadata": {
      "needs_background": "light"
     },
     "output_type": "display_data"
    },
    {
     "name": "stdout",
     "output_type": "stream",
     "text": [
      "\n",
      "Descriptive statistics of Response3:\n",
      "count       10000\n",
      "unique          5\n",
      "top       Whiskey\n",
      "freq         2069\n",
      "Name: Response3, dtype: object\n"
     ]
    },
    {
     "data": {
      "image/png": "[encoded data removed]",
      "text/plain": [
       "<Figure size 432x288 with 1 Axes>"
      ]
     },
     "metadata": {
      "needs_background": "light"
     },
     "output_type": "display_data"
    }
   ],
   "source": [
    "# Shape of the dataframe\n",
    "print( \"Shape:\", df.shape)\n",
    "\n",
    "# Descriptive statistics and visuals of all three response columns and three features of your choice.\n",
    "rCols = ['Response1', 'Response2', 'Response3']\n",
    "fCols = ['Feature1', 'Feature5', 'Feature10']\n",
    "\n",
    "for i in rCols:\n",
    "    print(f\"\\nDescriptive statistics of {i}:\")\n",
    "    print(df[i].describe())\n",
    "    plt.hist(df[i], bins = 100)\n",
    "    plt.title(f\"Graph of {i}:\")\n",
    "    plt.show()\n",
    "\n",
    "for i in rCols:\n",
    "    print(f\"\\nDescriptive statistics of {i}:\")\n",
    "    print(df[i].describe())\n",
    "    plt.hist(df[i], bins = 100)\n",
    "    plt.title(f\"Graph of {i}:\")\n",
    "    plt.show()"
   ]
  },
  {
   "cell_type": "code",
   "execution_count": 64,
   "metadata": {},
   "outputs": [
    {
     "name": "stdout",
     "output_type": "stream",
     "text": [
      "Correlation Matrix\n",
      "           Feature6  Feature7  Feature8  Feature9  Feature10  Feature11  \\\n",
      "Feature6   1.000000 -0.003289  0.001266  0.003640  -0.006598   0.005748   \n",
      "Feature7  -0.003289  1.000000  0.006129  0.013325   0.001644   0.000059   \n",
      "Feature8   0.001266  0.006129  1.000000  0.013570  -0.013400  -0.006546   \n",
      "Feature9   0.003640  0.013325  0.013570  1.000000  -0.006185   0.009888   \n",
      "Feature10 -0.006598  0.001644 -0.013400 -0.006185   1.000000  -0.014864   \n",
      "Feature11  0.005748  0.000059 -0.006546  0.009888  -0.014864   1.000000   \n",
      "Feature12  0.010218  0.011281  0.010194  0.002455   0.001754   0.005615   \n",
      "Feature13  0.009568 -0.010808  0.017436  0.007075   0.012134   0.010863   \n",
      "Feature14 -0.002426 -0.003326 -0.018152 -0.007483   0.014370  -0.002756   \n",
      "Feature15 -0.001349 -0.005202  0.004562 -0.005002  -0.011080  -0.020597   \n",
      "Feature16  0.003683  0.007974  0.000875 -0.003231  -0.011715  -0.013653   \n",
      "Feature17 -0.004903 -0.007721 -0.017761  0.011898  -0.012273  -0.001742   \n",
      "Feature18  0.005774  0.010672 -0.008681 -0.013679   0.005874   0.004700   \n",
      "Feature19 -0.007449  0.015360  0.001169  0.005165   0.017987  -0.003490   \n",
      "\n",
      "           Feature12  Feature13  Feature14  Feature15  Feature16  Feature17  \\\n",
      "Feature6    0.010218   0.009568  -0.002426  -0.001349   0.003683  -0.004903   \n",
      "Feature7    0.011281  -0.010808  -0.003326  -0.005202   0.007974  -0.007721   \n",
      "Feature8    0.010194   0.017436  -0.018152   0.004562   0.000875  -0.017761   \n",
      "Feature9    0.002455   0.007075  -0.007483  -0.005002  -0.003231   0.011898   \n",
      "Feature10   0.001754   0.012134   0.014370  -0.011080  -0.011715  -0.012273   \n",
      "Feature11   0.005615   0.010863  -0.002756  -0.020597  -0.013653  -0.001742   \n",
      "Feature12   1.000000  -0.008135   0.015304   0.003033   0.002377   0.018760   \n",
      "Feature13  -0.008135   1.000000  -0.020595   0.003563  -0.003724  -0.016625   \n",
      "Feature14   0.015304  -0.020595   1.000000  -0.005497  -0.002872  -0.007085   \n",
      "Feature15   0.003033   0.003563  -0.005497   1.000000  -0.002169  -0.012686   \n",
      "Feature16   0.002377  -0.003724  -0.002872  -0.002169   1.000000  -0.008457   \n",
      "Feature17   0.018760  -0.016625  -0.007085  -0.012686  -0.008457   1.000000   \n",
      "Feature18  -0.004243  -0.005467   0.020982   0.006773   0.005350   0.018705   \n",
      "Feature19   0.001819  -0.015272  -0.021271  -0.006540  -0.006214  -0.005354   \n",
      "\n",
      "           Feature18  Feature19  \n",
      "Feature6    0.005774  -0.007449  \n",
      "Feature7    0.010672   0.015360  \n",
      "Feature8   -0.008681   0.001169  \n",
      "Feature9   -0.013679   0.005165  \n",
      "Feature10   0.005874   0.017987  \n",
      "Feature11   0.004700  -0.003490  \n",
      "Feature12  -0.004243   0.001819  \n",
      "Feature13  -0.005467  -0.015272  \n",
      "Feature14   0.020982  -0.021271  \n",
      "Feature15   0.006773  -0.006540  \n",
      "Feature16   0.005350  -0.006214  \n",
      "Feature17   0.018705  -0.005354  \n",
      "Feature18   1.000000  -0.001728  \n",
      "Feature19  -0.001728   1.000000  \n"
     ]
    }
   ],
   "source": [
    "# Coorelation Matrix\n",
    "numCols = [f'Feature{i}' for i in range(6, features)]\n",
    "corr = df[numCols].corr()\n",
    "print(\"Correlation Matrix\")\n",
    "print(corr)"
   ]
  },
  {
   "cell_type": "code",
   "execution_count": 65,
   "metadata": {},
   "outputs": [
    {
     "name": "stdout",
     "output_type": "stream",
     "text": [
      "Chi-squared for Response1 and Feature1: p-value 1.0\n",
      "Chi-squared for Response1 and Feature2: p-value 1.0\n",
      "Chi-squared for Response1 and Feature3: p-value 1.0\n",
      "Chi-squared for Response1 and Feature4: p-value 1.0\n",
      "Chi-squared for Response1 and Feature5: p-value 1.0\n",
      "Chi-squared for Response2 and Feature1: p-value 0.9992458118866968\n",
      "Chi-squared for Response2 and Feature2: p-value 0.9915685557245706\n",
      "Chi-squared for Response2 and Feature3: p-value 0.2552313032282074\n",
      "Chi-squared for Response2 and Feature4: p-value 0.988841050374547\n",
      "Chi-squared for Response2 and Feature5: p-value 0.9905496427216491\n",
      "Chi-squared for Response3 and Feature1: p-value 0.9999465302575149\n",
      "Chi-squared for Response3 and Feature2: p-value 0.09926797180476495\n",
      "Chi-squared for Response3 and Feature3: p-value 0.7505725611499059\n",
      "Chi-squared for Response3 and Feature4: p-value 0.999837389008949\n",
      "Chi-squared for Response3 and Feature5: p-value 0.9888277655765637\n",
      "T-Test for Response1 and Feature10: p-value 0.032482744931921555\n",
      "T-Test for Response1 and Feature11: p-value 0.0445681083481313\n",
      "T-Test for Response1 and Feature12: p-value 0.029405857880922072\n"
     ]
    }
   ],
   "source": [
    "#chai-square tests of response and categorical features\n",
    "catFeatures = ['Feature1', 'Feature2', 'Feature3', 'Feature4', 'Feature5']\n",
    "threeNumFeatures = ['Feature10', 'Feature11', 'Feature12',]\n",
    "\n",
    "for i in rCols:\n",
    "  for j in catFeatures:\n",
    "    xTab = pd.crosstab(df[i], df[j], margins=True)\n",
    "    chi, p_value, dof, expected = scipy.stats.chi2_contingency(xTab)\n",
    "    print(f\"Chi-squared for {i} and {j}: p-value {p_value}\")\n",
    "\n",
    "# T-Test\n",
    "for i in threeNumFeatures:\n",
    "  t, p_value = scipy.stats.ttest_ind(df['Response1'], df[i])\n",
    "  print(f\"T-Test for Response1 and {i}: p-value {p_value}\")\n",
    "\n"
   ]
  }
 ],
 "metadata": {
  "kernelspec": {
   "display_name": "Python 3 (ipykernel)",
   "language": "python",
   "name": "python3"
  },
  "language_info": {
   "codemirror_mode": {
    "name": "ipython",
    "version": 3
   },
   "file_extension": ".py",
   "mimetype": "text/x-python",
   "name": "python",
   "nbconvert_exporter": "python",
   "pygments_lexer": "ipython3",
   "version": "3.9.12"
  },
  "vscode": {
   "interpreter": {
    "hash": "df250b5f6f55ceb2760a6cdcd6e36d176b9e41f612fd931b8243351af70c7aaf"
   }
  }
 },
 "nbformat": 4,
 "nbformat_minor": 4
}
