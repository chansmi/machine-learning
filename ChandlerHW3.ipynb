{
 "cells": [
  {
   "attachments": {},
   "cell_type": "markdown",
   "id": "652291d6",
   "metadata": {},
   "source": [
    "# Assignment 3B\n",
    "Chandler Smith\n",
    "\n",
    "Summary: The goal of this project was to explore MLR and logistic regression in depth. This incolved setting up the full ML pipeline, manipulating data, and playing around with the models for optimization. This provided invaluable experience regarding iterating over a model, just like we would if provided a real life problem. "
   ]
  },
  {
   "attachments": {},
   "cell_type": "markdown",
   "id": "212a1396",
   "metadata": {},
   "source": [
    "## House Price MLR\n"
   ]
  },
  {
   "cell_type": "code",
   "execution_count": null,
   "id": "36d55ef0",
   "metadata": {},
   "outputs": [],
   "source": [
    "import pandas as pd\n",
    "import numpy as np\n",
    "import os\n",
    "from datetime import datetime\n",
    "\n",
    "import sklearn \n",
    "\n",
    "from sklearn import datasets\n",
    "import random\n",
    "import seaborn as sns\n",
    "import matplotlib.pyplot as plt\n",
    "#import missingno as msno\n",
    "\n",
    "\n",
    "import warnings\n",
    "warnings.filterwarnings('ignore') \n",
    "sns.set(rc={'figure.figsize':(11,8)})\n",
    "\n",
    "pd.options.display.float_format = '{:.2f}'.format"
   ]
  },
  {
   "attachments": {},
   "cell_type": "markdown",
   "id": "e779ab56",
   "metadata": {},
   "source": [
    "# Part 1: MLR"
   ]
  },
  {
   "cell_type": "code",
   "execution_count": null,
   "id": "aa745b12",
   "metadata": {},
   "outputs": [],
   "source": []
  },
  {
   "attachments": {},
   "cell_type": "markdown",
   "id": "26d31307",
   "metadata": {},
   "source": [
    "## Import House Price for MLR"
   ]
  },
  {
   "cell_type": "code",
   "execution_count": null,
   "id": "11840824",
   "metadata": {},
   "outputs": [],
   "source": [
    "%cd '/Users/chandlersmith/Desktop/CS6140/HW3'\n",
    "os.listdir()\n",
    "\n",
    "# The first column is index: skipping that column\n",
    "ct = pd.read_csv(\"HousePrice.csv\")\n",
    "ct = ct.iloc[:, 1:]\n",
    "ct.head()"
   ]
  },
  {
   "cell_type": "markdown",
   "id": "850e1106",
   "metadata": {},
   "source": [
    "## <font color = darkblue> Multiple Linear Regression (MLR)"
   ]
  },
  {
   "attachments": {},
   "cell_type": "markdown",
   "id": "0ca158c2",
   "metadata": {},
   "source": [
    "## Variables = Columns:\n",
    "### Numerical Columns\n",
    "OverallQual   TotRmsAbvGrd    BsmtFullBath\n",
    "MasVnrArea      MSSubClass      FullBath        LotArea BedroomAbvGr    Fireplaces      GarageCars      KitchenAbvGr    OverallCond     GarageArea      YearBuilt       PoolArea        \n",
    "\n",
    "### Categorical Columns\n",
    "Neighborhood    BldgType        BsmtExposure    HouseStyle      RoofMatl        KitchenQual     BsmtQual        MSZoning        Heating\n",
    "SaleType        \n",
    "\n",
    "### Targey\n",
    "SalePrice"
   ]
  },
  {
   "attachments": {},
   "cell_type": "markdown",
   "id": "7251b139",
   "metadata": {},
   "source": [
    "Notes from lecture discussion: Maximize coeff\n",
    "- Predict sale price - standardize, encode categorical, \n",
    "- remove sale price as part of feature space\n",
    "- Increase % coor as much as prossible\n",
    "    - Test, train, split\n",
    "\n",
    "Titanic\n",
    "- Ignore correlation for categorical columns\n",
    "- Should not have 90% percent\n",
    "- Don't standardize the response column"
   ]
  },
  {
   "attachments": {},
   "cell_type": "markdown",
   "id": "465d382e",
   "metadata": {},
   "source": [
    "### Creating the dataframe"
   ]
  },
  {
   "cell_type": "code",
   "execution_count": null,
   "id": "059d5ff8",
   "metadata": {},
   "outputs": [],
   "source": [
    "from sklearn.linear_model import LinearRegression\n",
    "from sklearn.model_selection import train_test_split\n",
    "from sklearn.preprocessing import LabelEncoder\n",
    "    \n",
    "# remove NaNs from the table\n",
    "ct2 = ct.dropna()\n",
    "\n",
    "'''Given the independence of each row, it makes sense to remove the NaNs instead of using means or medians.'''\n",
    "\n",
    "# Encode and standardize categorical variables\n",
    "\n",
    "for i in ct2:\n",
    "    if ct2[i].dtype == \"object\":\n",
    "        encode = LabelEncoder()\n",
    "        ct2[i] = encode.fit_transform(ct2[i])\n",
    "# print(ct2.head) # CONF\n",
    "\n",
    "# now all my categorical columns are encoded, yay!\n",
    "# Declaring the response column and the feature space\n",
    "\n",
    "''' iloc indexes data. The first column is an index so we can drop that, and the last column is our target\n",
    " variable which we don't include in our feature space.'''\n",
    "\n",
    "X = ct2.iloc[:, :-1]\n",
    "#print(X)\n",
    "y = ct2[\"SalePrice\"]\n",
    "#print(ct2[\"SalePrice\"])\n",
    "\n",
    "\n",
    "\n",
    "# ----------------------------------------\n",
    "# train - test split\n",
    "# Notice the test_size hyperparameter\n",
    "# ----------------------------------------\n",
    "\n",
    "X_train, X_test, y_train, y_test = train_test_split(X, y, test_size=0.2, random_state=0)\n",
    "\n",
    "print(X_train.shape)\n",
    "print(X_test.shape)\n",
    "\n"
   ]
  },
  {
   "attachments": {},
   "cell_type": "markdown",
   "id": "76b55abc",
   "metadata": {},
   "source": [
    "### Standardize and train the model"
   ]
  },
  {
   "cell_type": "code",
   "execution_count": null,
   "id": "7530f5f9",
   "metadata": {},
   "outputs": [],
   "source": [
    "''' Here, we are performing feature scaling. Passing the data through fit should find the mean and SD of the data. \n",
    "After fitting, we transform the data which means normalizing and scaling. '''\n",
    "\n",
    "from sklearn.preprocessing import StandardScaler\n",
    "\n",
    "scaler = StandardScaler()\n",
    "\n",
    "scaler.fit(X_train)\n",
    "X_train_stand = scaler.transform(X_train.values)\n",
    "\n",
    "scaler.fit(X_test)\n",
    "X_test_stand = scaler.transform(X_test.values)\n",
    "\n",
    "# ------------------------------------------------------\n",
    "# Train the model\n",
    "# Done in two ways:\n",
    "# Unstandardized features and then standardizae features\n",
    "# ------------------------------------------------------\n",
    "\n",
    "from sklearn.linear_model import LinearRegression\n",
    "#model1 = LinearRegression().fit(X_train, y_train)\n",
    "model2 = LinearRegression().fit(X_train_stand, y_train)\n",
    "\n"
   ]
  },
  {
   "attachments": {},
   "cell_type": "markdown",
   "id": "1454c3aa",
   "metadata": {},
   "source": [
    "### Printing the output"
   ]
  },
  {
   "cell_type": "code",
   "execution_count": null,
   "id": "4693bc67",
   "metadata": {},
   "outputs": [],
   "source": [
    "\n",
    "print(\"Model score, same as coeff of determination = R2\")\n",
    "print(\"Standardized model:\", model2.score(X_test_stand, y_test))\n",
    "print(\"-----------\")\n",
    "\n",
    "print(\"Model hyperparameters\")\n",
    "print(model2.get_params())\n",
    "print(\"-----------\")\n",
    "\n",
    "print(\"Model coefficients: \",model2.coef_)\n",
    "print(\"-----------\")\n",
    "\n",
    "\n",
    "print(\"Model intercept: \",model2.intercept_)\n",
    "print(\"-----------\")\n",
    "\n",
    "from sklearn.metrics import r2_score\n",
    "print(\"Coefficient of determination = R2: \",r2_score(y_test, model2.predict(X_test_stand)))\n",
    "print(\"-----------\")\n",
    "\n",
    "from sklearn.metrics import mean_squared_error\n",
    "print(\"MSE:\",mean_squared_error(y_test,model2.predict(X_test_stand)))\n",
    "print(\"-----------\")\n"
   ]
  },
  {
   "attachments": {},
   "cell_type": "markdown",
   "id": "0ad28de8",
   "metadata": {},
   "source": [
    "## Data Analysis\n",
    "After encoding the categorical columns and standardizing all the data, we ran a train - test split on the model. 1131 rows were used for training, reserving 283 for the test. The result of the model was 0.81 coeff. This is pretty good, however, I think we can do better. I am going to run a pairplot and correlation matrix to see if I can remove a few of the least coorelated columns. This should increase my model score. "
   ]
  },
  {
   "attachments": {},
   "cell_type": "markdown",
   "id": "3c6a0b6d",
   "metadata": {},
   "source": [
    "1) Run pairplots and corrleation matrix to identify columns that are highly associated with Sale Price. \n",
    "\n",
    "The intent of this is to let the feature set present the most associated features to us rather than our bias dominating what we focus on. "
   ]
  },
  {
   "cell_type": "code",
   "execution_count": null,
   "id": "ef815e1c",
   "metadata": {},
   "outputs": [],
   "source": [
    "# run pairplots\n",
    "#pairplots is a suit of graphs which compare all features in a matrix\n",
    "# Cite: https://medium.com/@jpeavy09/making-a-pair-plot-using-the-seaborn-library-with-python-bac060479018\n",
    "sns.pairplot(ct2)"
   ]
  },
  {
   "cell_type": "code",
   "execution_count": null,
   "id": "d6eea87d",
   "metadata": {},
   "outputs": [],
   "source": [
    "#Isolate the Sale Price column\n",
    "# This makes it much easier to view a comparison\n",
    "sns.pairplot(ct2, x_vars=['SalePrice'])"
   ]
  },
  {
   "cell_type": "code",
   "execution_count": null,
   "id": "e58838c8",
   "metadata": {},
   "outputs": [],
   "source": [
    "# Run Correlation matrix\n",
    "# Visualize it with seaborn\n",
    "# Cite: https://datatofish.com/correlation-matrix-pandas/\n",
    "corr_matrix = ct2.corr()\n",
    "sns.heatmap(corr_matrix, annot=True) \n",
    "sns.heatmap(corr_matrix,annot=True) "
   ]
  },
  {
   "attachments": {},
   "cell_type": "markdown",
   "id": "54246ca4",
   "metadata": {},
   "source": [
    "## Improving the model\n",
    "\n",
    "I am going to run a little experiment. My goal is to remove the features that are lowering my models coefficient. To do this, I should be able to calculate the P value for each feature, and then removce the highest one. I will then recalculate the coefficient and if it goes up, yay, but if it goes down, I can put it back in. This process run recursively should yield the highest coefficient. \n",
    "cite: https://machinelearningmind.com/2019/10/14/feature-elimination-using-p-values/\n",
    "https://www.statsmodels.org/dev/generated/statsmodels.regression.linear_model.OLS.html\n"
   ]
  },
  {
   "cell_type": "code",
   "execution_count": null,
   "id": "efc285ef",
   "metadata": {},
   "outputs": [],
   "source": [
    "import statsmodels.api as sm\n",
    "# OLS = ordinary least squares\n",
    "from sklearn.preprocessing import StandardScaler\n",
    "\n",
    "scaler = StandardScaler()\n",
    "\n",
    "#scaler.fit(X)\n",
    "#X = scaler.transform(X.values)\n",
    "X_stand = sm.add_constant(X)\n",
    "\n",
    "OLSmodel = sm.OLS( y, X_stand)\n",
    "results = OLSmodel.fit()\n",
    "print(results.summary())"
   ]
  },
  {
   "attachments": {},
   "cell_type": "markdown",
   "id": "e1096027",
   "metadata": {},
   "source": [
    "With the above information, I can clearly see several variable which I can remove, and run again. \n",
    "- SaleType\n",
    "- Heating\n",
    "- MSZoning \n",
    "- BldgType\n",
    "- PoolArea\n",
    "- GarageArea\n",
    "- GarageCars\n",
    "- BedroomAbvGr\n",
    "- MSSubClass"
   ]
  },
  {
   "cell_type": "code",
   "execution_count": null,
   "id": "83762df9",
   "metadata": {},
   "outputs": [],
   "source": [
    "\n",
    "X_opt = ct2.drop([\"SaleType\", \"Heating\", \"MSZoning\", \"BldgType\", \"PoolArea\", \"GarageArea\",\n",
    "                    \"GarageCars\", \"BedroomAbvGr\", \"MSSubClass\", \"SalePrice\"], axis=1)\n",
    "print(X_opt)\n",
    "y = ct2[\"SalePrice\"]\n",
    "\n",
    "X_train, X_test, y_train, y_test = train_test_split(X_opt, y, test_size=0.2, random_state=0)\n",
    "\n",
    "print(X_train.shape)\n",
    "print(X_test.shape)\n",
    "scaler = StandardScaler()\n",
    "\n",
    "scaler.fit(X_train)\n",
    "X_train_stand = scaler.transform(X_train.values)\n",
    "\n",
    "scaler.fit(X_test)\n",
    "X_test_stand = scaler.transform(X_test.values)\n",
    "\n",
    "from sklearn.linear_model import LinearRegression\n",
    "model_Opt = LinearRegression().fit(X_train_stand, y_train)"
   ]
  },
  {
   "cell_type": "code",
   "execution_count": null,
   "id": "3212403f",
   "metadata": {},
   "outputs": [],
   "source": [
    "print(\"Model score, same as coeff of determination = R2\")\n",
    "print(\"Standardized model:\", model_Opt.score(X_test_stand, y_test))\n",
    "print(\"-----------\")\n",
    "\n",
    "print(\"Model hyperparameters\")\n",
    "print(model_Opt.get_params())\n",
    "print(\"-----------\")\n",
    "\n",
    "print(\"Model coefficients: \",model_Opt.coef_)\n",
    "print(\"-----------\")\n",
    "\n",
    "\n",
    "print(\"Model intercept: \",model_Opt.intercept_)\n",
    "print(\"-----------\")\n",
    "\n",
    "from sklearn.metrics import r2_score\n",
    "print(\"Coefficient of determination = R2: \",r2_score(y_test, model_Opt.predict(X_test_stand)))\n",
    "print(\"-----------\")\n",
    "\n",
    "from sklearn.metrics import mean_squared_error\n",
    "print(\"MSE:\",mean_squared_error(y_test,model_Opt.predict(X_test_stand)))\n",
    "print(\"-----------\")"
   ]
  },
  {
   "attachments": {},
   "cell_type": "markdown",
   "id": "9137ea42",
   "metadata": {},
   "source": [
    "Well, at the end of the day, the R2 value didn't change much at all. It went from .812 to .816. That being said, the process here produce a faster model, so it is worth going through this process, and further automating it. If I were going to automate it, I would do it one variable at a time to really hone in on the optimal result. "
   ]
  },
  {
   "attachments": {},
   "cell_type": "markdown",
   "id": "69e3fc1d",
   "metadata": {},
   "source": [
    "# Part 2: Linear Regression"
   ]
  },
  {
   "cell_type": "markdown",
   "id": "92332911",
   "metadata": {},
   "source": [
    "## <font color = darkblue> Stochastic Gradient Descent Regressor"
   ]
  },
  {
   "cell_type": "code",
   "execution_count": null,
   "id": "8968c00a",
   "metadata": {},
   "outputs": [],
   "source": [
    "import numpy as np\n",
    "from sklearn.linear_model import SGDRegressor\n",
    "from sklearn.pipeline import make_pipeline\n",
    "from sklearn.preprocessing import StandardScaler\n",
    "\n",
    "reg = make_pipeline(StandardScaler(),SGDRegressor(max_iter=1000, tol=1e-3))\n",
    "reg.fit(X_train, y_train)"
   ]
  },
  {
   "cell_type": "code",
   "execution_count": null,
   "id": "c49c5ea8",
   "metadata": {},
   "outputs": [],
   "source": [
    "from sklearn.metrics import r2_score\n",
    "r2_score(y_test, reg.predict(X_test))\n",
    "\n",
    "# reg.get_params()\n"
   ]
  },
  {
   "cell_type": "code",
   "execution_count": null,
   "id": "8072368e",
   "metadata": {},
   "outputs": [],
   "source": [
    "sgd = SGDRegressor()\n",
    "sgd.fit(X_train_stand, y_train)\n",
    "sgd.score(X_test_stand, y_test)"
   ]
  },
  {
   "cell_type": "code",
   "execution_count": null,
   "id": "817cfea2",
   "metadata": {},
   "outputs": [],
   "source": [
    "sgd.densify()"
   ]
  },
  {
   "cell_type": "markdown",
   "id": "c767f355",
   "metadata": {},
   "source": [
    "## <font color = darkblue>  Logistic Regression"
   ]
  },
  {
   "attachments": {},
   "cell_type": "markdown",
   "id": "66b41c27",
   "metadata": {},
   "source": [
    "Part 2, the titanic. Here, the response variable will be a binary outcome. Did they survive, or did they not. We will use accuracy to predict this metric. I began this project by using csvkit to convert my txt file to a csv,\n",
    "Command line prompt:\n",
    " - csvformat -T -U 1 Titanic_Passengers.txt > Titanic_Passengers.csv\n"
   ]
  },
  {
   "cell_type": "code",
   "execution_count": 157,
   "id": "d7fb98c9",
   "metadata": {},
   "outputs": [
    {
     "data": {
      "text/html": [
       "<div>\n",
       "<style scoped>\n",
       "    .dataframe tbody tr th:only-of-type {\n",
       "        vertical-align: middle;\n",
       "    }\n",
       "\n",
       "    .dataframe tbody tr th {\n",
       "        vertical-align: top;\n",
       "    }\n",
       "\n",
       "    .dataframe thead th {\n",
       "        text-align: right;\n",
       "    }\n",
       "</style>\n",
       "<table border=\"1\" class=\"dataframe\">\n",
       "  <thead>\n",
       "    <tr style=\"text-align: right;\">\n",
       "      <th></th>\n",
       "      <th>Passenger Class</th>\n",
       "      <th>Survived</th>\n",
       "      <th>Name</th>\n",
       "      <th>Sex</th>\n",
       "      <th>Age</th>\n",
       "      <th>Siblings and Spouses</th>\n",
       "      <th>Parents and Children</th>\n",
       "      <th>Ticket #</th>\n",
       "      <th>Fare</th>\n",
       "      <th>Cabin</th>\n",
       "      <th>Port</th>\n",
       "      <th>Lifeboat</th>\n",
       "      <th>Body</th>\n",
       "      <th>Home / Destination</th>\n",
       "      <th>Midpoint age</th>\n",
       "    </tr>\n",
       "  </thead>\n",
       "  <tbody>\n",
       "    <tr>\n",
       "      <th>0</th>\n",
       "      <td>1</td>\n",
       "      <td>Yes</td>\n",
       "      <td>Allen, Miss. Elisabeth Walton</td>\n",
       "      <td>female</td>\n",
       "      <td>29.00</td>\n",
       "      <td>0</td>\n",
       "      <td>0</td>\n",
       "      <td>24160</td>\n",
       "      <td>211.34</td>\n",
       "      <td>B5</td>\n",
       "      <td>S</td>\n",
       "      <td>2</td>\n",
       "      <td>NaN</td>\n",
       "      <td>St Louis, MO</td>\n",
       "      <td>27.50</td>\n",
       "    </tr>\n",
       "    <tr>\n",
       "      <th>1</th>\n",
       "      <td>1</td>\n",
       "      <td>Yes</td>\n",
       "      <td>Allison, Master. Hudson Trevor</td>\n",
       "      <td>male</td>\n",
       "      <td>0.92</td>\n",
       "      <td>1</td>\n",
       "      <td>2</td>\n",
       "      <td>113781</td>\n",
       "      <td>151.55</td>\n",
       "      <td>C22 C26</td>\n",
       "      <td>S</td>\n",
       "      <td>11</td>\n",
       "      <td>NaN</td>\n",
       "      <td>Montreal, PQ / Chesterville, ON</td>\n",
       "      <td>2.50</td>\n",
       "    </tr>\n",
       "    <tr>\n",
       "      <th>2</th>\n",
       "      <td>1</td>\n",
       "      <td>No</td>\n",
       "      <td>Allison, Miss. Helen Loraine</td>\n",
       "      <td>female</td>\n",
       "      <td>2.00</td>\n",
       "      <td>1</td>\n",
       "      <td>2</td>\n",
       "      <td>113781</td>\n",
       "      <td>151.55</td>\n",
       "      <td>C22 C26</td>\n",
       "      <td>S</td>\n",
       "      <td>NaN</td>\n",
       "      <td>NaN</td>\n",
       "      <td>Montreal, PQ / Chesterville, ON</td>\n",
       "      <td>2.50</td>\n",
       "    </tr>\n",
       "    <tr>\n",
       "      <th>3</th>\n",
       "      <td>1</td>\n",
       "      <td>No</td>\n",
       "      <td>Allison, Mr. Hudson Joshua Creighton</td>\n",
       "      <td>male</td>\n",
       "      <td>30.00</td>\n",
       "      <td>1</td>\n",
       "      <td>2</td>\n",
       "      <td>113781</td>\n",
       "      <td>151.55</td>\n",
       "      <td>C22 C26</td>\n",
       "      <td>S</td>\n",
       "      <td>NaN</td>\n",
       "      <td>135.00</td>\n",
       "      <td>Montreal, PQ / Chesterville, ON</td>\n",
       "      <td>32.50</td>\n",
       "    </tr>\n",
       "    <tr>\n",
       "      <th>4</th>\n",
       "      <td>1</td>\n",
       "      <td>No</td>\n",
       "      <td>Allison, Mrs. Hudson J C (Bessie Waldo Daniels)</td>\n",
       "      <td>female</td>\n",
       "      <td>25.00</td>\n",
       "      <td>1</td>\n",
       "      <td>2</td>\n",
       "      <td>113781</td>\n",
       "      <td>151.55</td>\n",
       "      <td>C22 C26</td>\n",
       "      <td>S</td>\n",
       "      <td>NaN</td>\n",
       "      <td>NaN</td>\n",
       "      <td>Montreal, PQ / Chesterville, ON</td>\n",
       "      <td>27.50</td>\n",
       "    </tr>\n",
       "  </tbody>\n",
       "</table>\n",
       "</div>"
      ],
      "text/plain": [
       "   Passenger Class Survived                                             Name  \\\n",
       "0                1      Yes                    Allen, Miss. Elisabeth Walton   \n",
       "1                1      Yes                   Allison, Master. Hudson Trevor   \n",
       "2                1       No                     Allison, Miss. Helen Loraine   \n",
       "3                1       No             Allison, Mr. Hudson Joshua Creighton   \n",
       "4                1       No  Allison, Mrs. Hudson J C (Bessie Waldo Daniels)   \n",
       "\n",
       "      Sex   Age  Siblings and Spouses  Parents and Children Ticket #   Fare  \\\n",
       "0  female 29.00                     0                     0    24160 211.34   \n",
       "1    male  0.92                     1                     2   113781 151.55   \n",
       "2  female  2.00                     1                     2   113781 151.55   \n",
       "3    male 30.00                     1                     2   113781 151.55   \n",
       "4  female 25.00                     1                     2   113781 151.55   \n",
       "\n",
       "     Cabin Port Lifeboat   Body               Home / Destination  Midpoint age  \n",
       "0       B5    S        2    NaN                     St Louis, MO         27.50  \n",
       "1  C22 C26    S       11    NaN  Montreal, PQ / Chesterville, ON          2.50  \n",
       "2  C22 C26    S      NaN    NaN  Montreal, PQ / Chesterville, ON          2.50  \n",
       "3  C22 C26    S      NaN 135.00  Montreal, PQ / Chesterville, ON         32.50  \n",
       "4  C22 C26    S      NaN    NaN  Montreal, PQ / Chesterville, ON         27.50  "
      ]
     },
     "execution_count": 157,
     "metadata": {},
     "output_type": "execute_result"
    }
   ],
   "source": [
    "# The first column is index: skipping that column\n",
    "ct = pd.read_csv(\"Titanic_Passengers.csv\")\n",
    "ct = ct.iloc[:, :]\n",
    "ct.head()"
   ]
  },
  {
   "attachments": {},
   "cell_type": "markdown",
   "id": "36b3feff",
   "metadata": {},
   "source": [
    "### Data Cleaning\n",
    "Upon reviewing my data, I have two problematic columns, life boat and Body. Most of my Body values are NaNs, so I am going to remove Body all together because it wouldn't provide much value. For lifeboat, I don't want to remove it because it probably correlates highly with survival so I am going to change NaNs to 0. "
   ]
  },
  {
   "cell_type": "code",
   "execution_count": 209,
   "id": "e836af52",
   "metadata": {},
   "outputs": [
    {
     "name": "stdout",
     "output_type": "stream",
     "text": [
      "0       Yes\n",
      "1       Yes\n",
      "2        No\n",
      "3        No\n",
      "4        No\n",
      "       ... \n",
      "1304     No\n",
      "1305     No\n",
      "1306     No\n",
      "1307     No\n",
      "1308     No\n",
      "Name: Survived, Length: 1306, dtype: object\n",
      "0                         Allen, Miss. Elisabeth Walton\n",
      "1                        Allison, Master. Hudson Trevor\n",
      "2                          Allison, Miss. Helen Loraine\n",
      "3                  Allison, Mr. Hudson Joshua Creighton\n",
      "4       Allison, Mrs. Hudson J C (Bessie Waldo Daniels)\n",
      "                             ...                       \n",
      "1304                               Zabour, Miss. Hileni\n",
      "1305                              Zabour, Miss. Thamine\n",
      "1306                          Zakarian, Mr. Mapriededer\n",
      "1307                                Zakarian, Mr. Ortin\n",
      "1308                                 Zimmerman, Mr. Leo\n",
      "Name: Name, Length: 1306, dtype: object\n",
      "0       female\n",
      "1         male\n",
      "2       female\n",
      "3         male\n",
      "4       female\n",
      "         ...  \n",
      "1304    female\n",
      "1305    female\n",
      "1306      male\n",
      "1307      male\n",
      "1308      male\n",
      "Name: Sex, Length: 1306, dtype: object\n",
      "0        24160\n",
      "1       113781\n",
      "2       113781\n",
      "3       113781\n",
      "4       113781\n",
      "         ...  \n",
      "1304      2665\n",
      "1305      2665\n",
      "1306      2656\n",
      "1307      2670\n",
      "1308    315082\n",
      "Name: Ticket #, Length: 1306, dtype: object\n",
      "0            B5\n",
      "1       C22 C26\n",
      "2       C22 C26\n",
      "3       C22 C26\n",
      "4       C22 C26\n",
      "         ...   \n",
      "1304          0\n",
      "1305          0\n",
      "1306          0\n",
      "1307          0\n",
      "1308          0\n",
      "Name: Cabin, Length: 1306, dtype: object\n",
      "0       S\n",
      "1       S\n",
      "2       S\n",
      "3       S\n",
      "4       S\n",
      "       ..\n",
      "1304    C\n",
      "1305    C\n",
      "1306    C\n",
      "1307    C\n",
      "1308    S\n",
      "Name: Port, Length: 1306, dtype: object\n",
      "0        2\n",
      "1       11\n",
      "2        0\n",
      "3        0\n",
      "4        0\n",
      "        ..\n",
      "1304     0\n",
      "1305     0\n",
      "1306     0\n",
      "1307     0\n",
      "1308     0\n",
      "Name: Lifeboat, Length: 1306, dtype: object\n",
      "0                          St Louis, MO\n",
      "1       Montreal, PQ / Chesterville, ON\n",
      "2       Montreal, PQ / Chesterville, ON\n",
      "3       Montreal, PQ / Chesterville, ON\n",
      "4       Montreal, PQ / Chesterville, ON\n",
      "                     ...               \n",
      "1304                            Unknown\n",
      "1305                            Unknown\n",
      "1306                            Unknown\n",
      "1307                            Unknown\n",
      "1308                            Unknown\n",
      "Name: Destination, Length: 1306, dtype: object\n",
      "(1044, 13)\n",
      "(262, 13)\n"
     ]
    }
   ],
   "source": [
    "from sklearn.linear_model import LinearRegression\n",
    "from sklearn.model_selection import train_test_split\n",
    "from sklearn.preprocessing import LabelEncoder\n",
    "from sklearn.impute import SimpleImputer\n",
    "from sklearn.impute import KNNImputer\n",
    "\n",
    "\n",
    "# impute tools\n",
    "meanImputer = SimpleImputer(strategy='mean')\n",
    "\n",
    "#Clean column title\n",
    "ct2 = ct.rename(columns={'Home / Destination': \"Destination\"})\n",
    "ct2['Destination'].fillna(\"Unknown\", inplace=True)\n",
    "ct2['Destination'] = ct2['Destination'].astype(str)\n",
    "ct2 = ct2.drop(columns=[\"Body\"])\n",
    "ct2.dropna(subset=[\"Port\"], inplace=True)\n",
    "ct2['Lifeboat'].fillna(\"0\", inplace=True)\n",
    "ct2['Lifeboat'] = ct2['Lifeboat'].astype(str)\n",
    "ct2['Cabin'].fillna(\"0\", inplace=True)\n",
    "\n",
    "meanAge = ct2['Age'].mean()\n",
    "ct2['Age'].fillna(meanAge, inplace=True)\n",
    "\n",
    "meanMidpointAge = ct2['Midpoint age'].mean()\n",
    "ct2['Midpoint age'].fillna(meanMidpointAge, inplace=True)\n",
    "\n",
    "ct2.dropna( inplace = True)\n",
    "\n",
    "# Encode and standardize categorical variables\n",
    "for i in ct2:\n",
    "    if ct2[i].dtype == \"object\":\n",
    "        encode = LabelEncoder()\n",
    "        print(ct2[i])\n",
    "        ct2[i] = encode.fit_transform(ct2[i])\n",
    "#print(ct2.head) \n",
    "\n",
    "# Declaring the response column and the feature space\n",
    "\n",
    "X = ct2.iloc[:, ct2.columns != 'Survived']\n",
    "#print(X)\n",
    "y = ct2[\"Survived\"]\n",
    "\n",
    "ct2.to_csv(\"temp.csv\", index=False)\n",
    "\n",
    "# ----------------------------------------\n",
    "# train - test split\n",
    "# Notice the test_size hyperparameter\n",
    "# ----------------------------------------\n",
    "\n",
    "X_train, X_test, y_train, y_test = train_test_split(X, y, test_size=0.2, random_state=0)\n",
    "\n",
    "scaler = StandardScaler()\n",
    "\n",
    "scaler.fit(X_train)\n",
    "X_train = scaler.transform(X_train.values)\n",
    "\n",
    "scaler.fit(X_test)\n",
    "X_test = scaler.transform(X_test.values)\n",
    "\n",
    "print(X_train.shape)\n",
    "print(X_test.shape)\n"
   ]
  },
  {
   "cell_type": "markdown",
   "id": "601d1a8d",
   "metadata": {},
   "source": [
    "### MinMax Scaler"
   ]
  },
  {
   "cell_type": "code",
   "execution_count": 207,
   "id": "970cf4fa",
   "metadata": {},
   "outputs": [],
   "source": [
    "from sklearn.preprocessing import MinMaxScaler\n",
    "\n",
    "scaler = MinMaxScaler()\n",
    "X_train_minmax = scaler.fit_transform(X_train)\n",
    "X_test = scaler.transform(X_test)"
   ]
  },
  {
   "cell_type": "code",
   "execution_count": 210,
   "id": "caba8658",
   "metadata": {},
   "outputs": [
    {
     "data": {
      "text/html": [
       "<style>#sk-container-id-6 {color: black;background-color: white;}#sk-container-id-6 pre{padding: 0;}#sk-container-id-6 div.sk-toggleable {background-color: white;}#sk-container-id-6 label.sk-toggleable__label {cursor: pointer;display: block;width: 100%;margin-bottom: 0;padding: 0.3em;box-sizing: border-box;text-align: center;}#sk-container-id-6 label.sk-toggleable__label-arrow:before {content: \"▸\";float: left;margin-right: 0.25em;color: #696969;}#sk-container-id-6 label.sk-toggleable__label-arrow:hover:before {color: black;}#sk-container-id-6 div.sk-estimator:hover label.sk-toggleable__label-arrow:before {color: black;}#sk-container-id-6 div.sk-toggleable__content {max-height: 0;max-width: 0;overflow: hidden;text-align: left;background-color: #f0f8ff;}#sk-container-id-6 div.sk-toggleable__content pre {margin: 0.2em;color: black;border-radius: 0.25em;background-color: #f0f8ff;}#sk-container-id-6 input.sk-toggleable__control:checked~div.sk-toggleable__content {max-height: 200px;max-width: 100%;overflow: auto;}#sk-container-id-6 input.sk-toggleable__control:checked~label.sk-toggleable__label-arrow:before {content: \"▾\";}#sk-container-id-6 div.sk-estimator input.sk-toggleable__control:checked~label.sk-toggleable__label {background-color: #d4ebff;}#sk-container-id-6 div.sk-label input.sk-toggleable__control:checked~label.sk-toggleable__label {background-color: #d4ebff;}#sk-container-id-6 input.sk-hidden--visually {border: 0;clip: rect(1px 1px 1px 1px);clip: rect(1px, 1px, 1px, 1px);height: 1px;margin: -1px;overflow: hidden;padding: 0;position: absolute;width: 1px;}#sk-container-id-6 div.sk-estimator {font-family: monospace;background-color: #f0f8ff;border: 1px dotted black;border-radius: 0.25em;box-sizing: border-box;margin-bottom: 0.5em;}#sk-container-id-6 div.sk-estimator:hover {background-color: #d4ebff;}#sk-container-id-6 div.sk-parallel-item::after {content: \"\";width: 100%;border-bottom: 1px solid gray;flex-grow: 1;}#sk-container-id-6 div.sk-label:hover label.sk-toggleable__label {background-color: #d4ebff;}#sk-container-id-6 div.sk-serial::before {content: \"\";position: absolute;border-left: 1px solid gray;box-sizing: border-box;top: 0;bottom: 0;left: 50%;z-index: 0;}#sk-container-id-6 div.sk-serial {display: flex;flex-direction: column;align-items: center;background-color: white;padding-right: 0.2em;padding-left: 0.2em;position: relative;}#sk-container-id-6 div.sk-item {position: relative;z-index: 1;}#sk-container-id-6 div.sk-parallel {display: flex;align-items: stretch;justify-content: center;background-color: white;position: relative;}#sk-container-id-6 div.sk-item::before, #sk-container-id-6 div.sk-parallel-item::before {content: \"\";position: absolute;border-left: 1px solid gray;box-sizing: border-box;top: 0;bottom: 0;left: 50%;z-index: -1;}#sk-container-id-6 div.sk-parallel-item {display: flex;flex-direction: column;z-index: 1;position: relative;background-color: white;}#sk-container-id-6 div.sk-parallel-item:first-child::after {align-self: flex-end;width: 50%;}#sk-container-id-6 div.sk-parallel-item:last-child::after {align-self: flex-start;width: 50%;}#sk-container-id-6 div.sk-parallel-item:only-child::after {width: 0;}#sk-container-id-6 div.sk-dashed-wrapped {border: 1px dashed gray;margin: 0 0.4em 0.5em 0.4em;box-sizing: border-box;padding-bottom: 0.4em;background-color: white;}#sk-container-id-6 div.sk-label label {font-family: monospace;font-weight: bold;display: inline-block;line-height: 1.2em;}#sk-container-id-6 div.sk-label-container {text-align: center;}#sk-container-id-6 div.sk-container {/* jupyter's `normalize.less` sets `[hidden] { display: none; }` but bootstrap.min.css set `[hidden] { display: none !important; }` so we also need the `!important` here to be able to override the default hidden behavior on the sphinx rendered scikit-learn.org. See: https://github.com/scikit-learn/scikit-learn/issues/21755 */display: inline-block !important;position: relative;}#sk-container-id-6 div.sk-text-repr-fallback {display: none;}</style><div id=\"sk-container-id-6\" class=\"sk-top-container\"><div class=\"sk-text-repr-fallback\"><pre>LogisticRegression(random_state=0, solver=&#x27;liblinear&#x27;)</pre><b>In a Jupyter environment, please rerun this cell to show the HTML representation or trust the notebook. <br />On GitHub, the HTML representation is unable to render, please try loading this page with nbviewer.org.</b></div><div class=\"sk-container\" hidden><div class=\"sk-item\"><div class=\"sk-estimator sk-toggleable\"><input class=\"sk-toggleable__control sk-hidden--visually\" id=\"sk-estimator-id-8\" type=\"checkbox\" checked><label for=\"sk-estimator-id-8\" class=\"sk-toggleable__label sk-toggleable__label-arrow\">LogisticRegression</label><div class=\"sk-toggleable__content\"><pre>LogisticRegression(random_state=0, solver=&#x27;liblinear&#x27;)</pre></div></div></div></div></div>"
      ],
      "text/plain": [
       "LogisticRegression(random_state=0, solver='liblinear')"
      ]
     },
     "execution_count": 210,
     "metadata": {},
     "output_type": "execute_result"
    }
   ],
   "source": [
    "# train a logistic regression model on the training set\n",
    "from sklearn.linear_model import LogisticRegression\n",
    "\n",
    "# instantiate the model\n",
    "logreg = LogisticRegression(solver='liblinear', random_state=0)\n",
    "\n",
    "# fit the model\n",
    "logreg.fit(X_train, y_train)"
   ]
  },
  {
   "cell_type": "code",
   "execution_count": 211,
   "id": "d5093f3d",
   "metadata": {},
   "outputs": [
    {
     "data": {
      "text/plain": [
       "array([0, 0, 0, 1, 0, 1, 1, 0, 1, 0, 0, 0, 1, 0, 0, 1, 0, 1, 1, 1, 0, 1,\n",
       "       0, 1, 0, 1, 1, 0, 0, 1, 0, 1, 0, 0, 1, 0, 1, 0, 0, 0, 0, 1, 1, 1,\n",
       "       0, 0, 0, 1, 1, 0, 1, 0, 0, 0, 1, 1, 1, 0, 1, 0, 0, 0, 0, 0, 0, 0,\n",
       "       0, 0, 0, 0, 1, 1, 1, 0, 0, 1, 0, 0, 0, 0, 0, 0, 0, 0, 0, 1, 0, 0,\n",
       "       0, 1, 0, 0, 0, 0, 0, 0, 0, 0, 0, 1, 0, 1, 0, 0, 0, 1, 0, 0, 1, 0,\n",
       "       1, 0, 1, 0, 0, 0, 0, 1, 0, 0, 0, 1, 0, 0, 1, 1, 0, 0, 1, 0, 0, 0,\n",
       "       1, 0, 1, 0, 1, 0, 0, 1, 1, 1, 0, 0, 0, 1, 0, 0, 0, 0, 0, 1, 0, 0,\n",
       "       1, 0, 1, 1, 0, 1, 1, 0, 0, 1, 1, 0, 0, 1, 1, 0, 0, 0, 1, 0, 1, 1,\n",
       "       0, 1, 0, 1, 1, 0, 1, 0, 0, 0, 0, 1, 0, 0, 0, 0, 0, 0, 0, 1, 1, 0,\n",
       "       0, 1, 0, 0, 1, 1, 1, 1, 0, 1, 0, 0, 1, 0, 0, 0, 1, 0, 0, 0, 1, 1,\n",
       "       0, 0, 1, 0, 1, 0, 1, 1, 0, 0, 0, 0, 0, 0, 1, 0, 1, 1, 0, 0, 0, 1,\n",
       "       0, 0, 0, 0, 1, 0, 0, 0, 0, 0, 0, 0, 1, 1, 1, 1, 1, 0, 0, 0])"
      ]
     },
     "execution_count": 211,
     "metadata": {},
     "output_type": "execute_result"
    }
   ],
   "source": [
    "y_pred_test = logreg.predict(X_test)\n",
    "\n",
    "y_pred_test"
   ]
  },
  {
   "cell_type": "code",
   "execution_count": 212,
   "id": "c0af1173",
   "metadata": {},
   "outputs": [
    {
     "data": {
      "text/plain": [
       "array([8.79231561e-01, 9.64115337e-01, 9.30704365e-01, 1.99457474e-01,\n",
       "       9.84791830e-01, 1.21127641e-05, 2.37495318e-02, 9.56911784e-01,\n",
       "       6.10527280e-02, 9.80723840e-01, 5.49477468e-01, 9.82507596e-01,\n",
       "       8.82707065e-03, 7.91116375e-01, 9.43879286e-01, 2.17217234e-01,\n",
       "       9.95301868e-01, 8.20075053e-04, 7.33525492e-06, 6.94135790e-06,\n",
       "       8.02675045e-01, 6.09285333e-04, 8.14482095e-01, 3.55516667e-04,\n",
       "       9.83350536e-01, 4.26083063e-01, 5.29343625e-05, 9.86837556e-01,\n",
       "       9.58648355e-01, 9.44892395e-06, 9.82174687e-01, 2.62013717e-04,\n",
       "       9.86195217e-01, 8.94948771e-01, 3.02849774e-01, 9.69694539e-01,\n",
       "       4.39376964e-06, 9.47463588e-01, 9.72646592e-01, 9.51462914e-01,\n",
       "       8.19569563e-01, 6.47858486e-03, 2.15222799e-04, 1.18238870e-03,\n",
       "       9.83455533e-01, 9.70659013e-01, 9.80778167e-01, 6.31559419e-05,\n",
       "       5.74622534e-02, 7.36153225e-01, 2.53010981e-01, 9.81656892e-01,\n",
       "       9.77823975e-01, 8.22412731e-01, 1.42215010e-01, 2.86197984e-05,\n",
       "       2.56033716e-05, 9.17719884e-01, 3.15131639e-01, 9.82350586e-01,\n",
       "       9.84648371e-01, 9.75106733e-01, 9.85206017e-01, 9.57591065e-01,\n",
       "       8.13953477e-01, 6.40018728e-01, 9.38743747e-01, 9.64807438e-01,\n",
       "       7.73876040e-01, 6.34909930e-01, 1.53978654e-02, 1.33910807e-02,\n",
       "       1.02185600e-02, 9.82683173e-01, 9.80661159e-01, 3.15549170e-05,\n",
       "       8.60377981e-01, 9.52404240e-01, 9.86938975e-01, 9.80054535e-01,\n",
       "       9.38507373e-01, 9.81614115e-01, 9.77092435e-01, 5.16744298e-01,\n",
       "       9.76228338e-01, 8.41590785e-04, 9.68980955e-01, 7.53630795e-01,\n",
       "       9.09069240e-01, 1.29285553e-04, 9.81310951e-01, 9.71222299e-01,\n",
       "       9.90390831e-01, 7.36262755e-01, 9.78232520e-01, 9.50015130e-01,\n",
       "       9.86926650e-01, 9.68074206e-01, 9.83352017e-01, 8.77533969e-04,\n",
       "       9.30851698e-01, 1.05767150e-02, 9.12990694e-01, 9.66401465e-01,\n",
       "       7.93091087e-01, 1.31758325e-01, 6.42797272e-01, 9.71968166e-01,\n",
       "       4.71374828e-01, 8.89471782e-01, 1.79988209e-01, 9.36614687e-01,\n",
       "       2.59851178e-01, 9.45217707e-01, 9.90887964e-01, 9.78414763e-01,\n",
       "       9.80612273e-01, 6.06398906e-05, 9.80951606e-01, 9.84434473e-01,\n",
       "       9.67330710e-01, 1.20708033e-04, 9.54782478e-01, 9.84534102e-01,\n",
       "       2.86036769e-05, 6.00916997e-02, 9.71537959e-01, 9.86080422e-01,\n",
       "       6.05744309e-07, 9.79484358e-01, 9.77540919e-01, 9.64561407e-01,\n",
       "       1.33779634e-01, 9.83375462e-01, 2.66421273e-04, 9.59635256e-01,\n",
       "       2.69648823e-06, 8.73863359e-01, 9.85617354e-01, 2.70770789e-06,\n",
       "       2.00274362e-01, 1.04816571e-03, 9.00516728e-01, 5.49079276e-01,\n",
       "       9.83797193e-01, 8.86139458e-06, 9.77801241e-01, 9.95518693e-01,\n",
       "       9.81251822e-01, 9.57238948e-01, 9.84392802e-01, 4.50825650e-04,\n",
       "       9.88154412e-01, 9.45188021e-01, 3.23728255e-01, 7.70710406e-01,\n",
       "       3.07954245e-04, 7.37026682e-04, 9.81815457e-01, 1.47050277e-01,\n",
       "       2.36369241e-01, 9.64665165e-01, 9.31683110e-01, 4.69232815e-04,\n",
       "       8.35739192e-06, 9.77765305e-01, 8.92365782e-01, 9.64946086e-04,\n",
       "       8.59882722e-06, 9.85772090e-01, 9.49821509e-01, 9.49652634e-01,\n",
       "       4.58549641e-04, 9.88212574e-01, 1.48993611e-06, 1.33792365e-04,\n",
       "       9.06334095e-01, 4.95095022e-04, 9.75048568e-01, 2.84990896e-05,\n",
       "       9.67017479e-02, 9.39617312e-01, 1.98735170e-01, 9.90092677e-01,\n",
       "       9.49779865e-01, 9.86912462e-01, 9.25536456e-01, 5.98045181e-05,\n",
       "       9.61096679e-01, 9.77583096e-01, 9.32168489e-01, 7.00530253e-01,\n",
       "       9.33959662e-01, 9.87093189e-01, 9.36964413e-01, 1.84273974e-02,\n",
       "       1.96366012e-02, 9.81353650e-01, 9.79750414e-01, 2.00349472e-02,\n",
       "       9.82127333e-01, 9.81807085e-01, 3.78322564e-02, 1.14582050e-03,\n",
       "       2.79339923e-02, 2.21122615e-01, 9.82493242e-01, 1.66055642e-05,\n",
       "       9.83369936e-01, 9.81740267e-01, 6.41789830e-06, 9.53027610e-01,\n",
       "       9.79194150e-01, 9.49310775e-01, 5.42919154e-05, 8.29474120e-01,\n",
       "       9.80447949e-01, 9.85145959e-01, 6.89952373e-06, 8.89965549e-05,\n",
       "       8.65146828e-01, 9.92202968e-01, 6.36248323e-06, 9.42206836e-01,\n",
       "       5.74392185e-06, 9.84687603e-01, 3.73910192e-02, 3.15388390e-01,\n",
       "       9.81747817e-01, 9.79531426e-01, 9.85251323e-01, 9.43216858e-01,\n",
       "       9.78655727e-01, 8.68138253e-01, 3.87675080e-04, 9.79118777e-01,\n",
       "       2.14168525e-01, 1.89477854e-01, 9.72471706e-01, 9.91028998e-01,\n",
       "       9.81431981e-01, 1.95475867e-01, 9.94256176e-01, 8.39364981e-01,\n",
       "       8.33769050e-01, 8.24407572e-01, 2.28692304e-05, 9.31779617e-01,\n",
       "       9.89649345e-01, 9.83589682e-01, 9.75421756e-01, 9.81036182e-01,\n",
       "       6.26214036e-01, 8.28932589e-01, 4.10533399e-03, 1.43120952e-03,\n",
       "       6.40353622e-06, 1.32527929e-01, 2.18940245e-01, 9.86160616e-01,\n",
       "       9.45552943e-01, 9.95007201e-01])"
      ]
     },
     "execution_count": 212,
     "metadata": {},
     "output_type": "execute_result"
    }
   ],
   "source": [
    "# probability of getting output as 0 - no rain\n",
    "\n",
    "logreg.predict_proba(X_test)[:,0]"
   ]
  },
  {
   "cell_type": "code",
   "execution_count": 213,
   "id": "2cb990c2",
   "metadata": {},
   "outputs": [
    {
     "name": "stdout",
     "output_type": "stream",
     "text": [
      "Model accuracy score: 0.9389\n"
     ]
    }
   ],
   "source": [
    "from sklearn.metrics import accuracy_score\n",
    "\n",
    "print('Model accuracy score: {0:0.4f}'. format(accuracy_score(y_test, y_pred_test)))"
   ]
  },
  {
   "cell_type": "code",
   "execution_count": 214,
   "id": "e981b97c",
   "metadata": {},
   "outputs": [
    {
     "name": "stdout",
     "output_type": "stream",
     "text": [
      "Training set score: 0.9521\n",
      "Test set score: 0.9389\n"
     ]
    }
   ],
   "source": [
    "# print the scores on training and test set\n",
    "\n",
    "print('Training set score: {:.4f}'.format(logreg.score(X_train, y_train)))\n",
    "\n",
    "print('Test set score: {:.4f}'.format(logreg.score(X_test, y_test)))"
   ]
  },
  {
   "cell_type": "code",
   "execution_count": 182,
   "id": "51faf1b2",
   "metadata": {},
   "outputs": [
    {
     "name": "stdout",
     "output_type": "stream",
     "text": [
      "Training set score: 0.9559\n",
      "Test set score: 0.9351\n"
     ]
    }
   ],
   "source": [
    "# fit the Logsitic Regression model with C=100\n",
    "\n",
    "# instantiate the model\n",
    "logreg100 = LogisticRegression(C=100, solver='liblinear', random_state=0)\n",
    "\n",
    "# fit the model\n",
    "logreg100.fit(X_train, y_train)\n",
    "\n",
    "# print the scores on training and test set\n",
    "\n",
    "print('Training set score: {:.4f}'.format(logreg100.score(X_train, y_train)))\n",
    "\n",
    "print('Test set score: {:.4f}'.format(logreg100.score(X_test, y_test)))"
   ]
  },
  {
   "cell_type": "code",
   "execution_count": 167,
   "id": "ea667f44",
   "metadata": {},
   "outputs": [
    {
     "name": "stdout",
     "output_type": "stream",
     "text": [
      "Confusion matrix\n",
      "\n",
      " [[132  25]\n",
      " [ 31  74]]\n",
      "\n",
      "True Positives(TP) =  132\n",
      "\n",
      "True Negatives(TN) =  74\n",
      "\n",
      "False Positives(FP) =  25\n",
      "\n",
      "False Negatives(FN) =  31\n"
     ]
    }
   ],
   "source": [
    "# Print the Confusion Matrix and slice it into four pieces\n",
    "\n",
    "from sklearn.metrics import confusion_matrix\n",
    "\n",
    "cm = confusion_matrix(y_test, y_pred_test)\n",
    "\n",
    "print('Confusion matrix\\n\\n', cm)\n",
    "\n",
    "print('\\nTrue Positives(TP) = ', cm[0,0])\n",
    "\n",
    "print('\\nTrue Negatives(TN) = ', cm[1,1])\n",
    "\n",
    "print('\\nFalse Positives(FP) = ', cm[0,1])\n",
    "\n",
    "print('\\nFalse Negatives(FN) = ', cm[1,0])"
   ]
  },
  {
   "cell_type": "code",
   "execution_count": 168,
   "id": "ce3ee28f",
   "metadata": {},
   "outputs": [
    {
     "data": {
      "text/plain": [
       "<AxesSubplot:>"
      ]
     },
     "execution_count": 168,
     "metadata": {},
     "output_type": "execute_result"
    },
    {
     "data": {
      "image/png": "[encoded data removed]",
      "text/plain": [
       "<Figure size 792x576 with 2 Axes>"
      ]
     },
     "metadata": {},
     "output_type": "display_data"
    }
   ],
   "source": [
    "# visualize confusion matrix with seaborn heatmap\n",
    "\n",
    "cm_matrix = pd.DataFrame(data=cm, columns=['Actual Positive:1', 'Actual Negative:0'], \n",
    "                                 index=['Predict Positive:1', 'Predict Negative:0'])\n",
    "\n",
    "sns.heatmap(cm_matrix, annot=True, fmt='d', cmap='YlGnBu')"
   ]
  },
  {
   "cell_type": "code",
   "execution_count": 169,
   "id": "25de15c3",
   "metadata": {},
   "outputs": [
    {
     "name": "stdout",
     "output_type": "stream",
     "text": [
      "              precision    recall  f1-score   support\n",
      "\n",
      "           0       0.81      0.84      0.83       157\n",
      "           1       0.75      0.70      0.73       105\n",
      "\n",
      "    accuracy                           0.79       262\n",
      "   macro avg       0.78      0.77      0.78       262\n",
      "weighted avg       0.78      0.79      0.79       262\n",
      "\n"
     ]
    }
   ],
   "source": [
    "from sklearn.metrics import classification_report\n",
    "\n",
    "print(classification_report(y_test, y_pred_test))"
   ]
  },
  {
   "cell_type": "code",
   "execution_count": 170,
   "id": "102c9b83",
   "metadata": {},
   "outputs": [
    {
     "data": {
      "text/html": [
       "<style>#sk-container-id-3 {color: black;background-color: white;}#sk-container-id-3 pre{padding: 0;}#sk-container-id-3 div.sk-toggleable {background-color: white;}#sk-container-id-3 label.sk-toggleable__label {cursor: pointer;display: block;width: 100%;margin-bottom: 0;padding: 0.3em;box-sizing: border-box;text-align: center;}#sk-container-id-3 label.sk-toggleable__label-arrow:before {content: \"▸\";float: left;margin-right: 0.25em;color: #696969;}#sk-container-id-3 label.sk-toggleable__label-arrow:hover:before {color: black;}#sk-container-id-3 div.sk-estimator:hover label.sk-toggleable__label-arrow:before {color: black;}#sk-container-id-3 div.sk-toggleable__content {max-height: 0;max-width: 0;overflow: hidden;text-align: left;background-color: #f0f8ff;}#sk-container-id-3 div.sk-toggleable__content pre {margin: 0.2em;color: black;border-radius: 0.25em;background-color: #f0f8ff;}#sk-container-id-3 input.sk-toggleable__control:checked~div.sk-toggleable__content {max-height: 200px;max-width: 100%;overflow: auto;}#sk-container-id-3 input.sk-toggleable__control:checked~label.sk-toggleable__label-arrow:before {content: \"▾\";}#sk-container-id-3 div.sk-estimator input.sk-toggleable__control:checked~label.sk-toggleable__label {background-color: #d4ebff;}#sk-container-id-3 div.sk-label input.sk-toggleable__control:checked~label.sk-toggleable__label {background-color: #d4ebff;}#sk-container-id-3 input.sk-hidden--visually {border: 0;clip: rect(1px 1px 1px 1px);clip: rect(1px, 1px, 1px, 1px);height: 1px;margin: -1px;overflow: hidden;padding: 0;position: absolute;width: 1px;}#sk-container-id-3 div.sk-estimator {font-family: monospace;background-color: #f0f8ff;border: 1px dotted black;border-radius: 0.25em;box-sizing: border-box;margin-bottom: 0.5em;}#sk-container-id-3 div.sk-estimator:hover {background-color: #d4ebff;}#sk-container-id-3 div.sk-parallel-item::after {content: \"\";width: 100%;border-bottom: 1px solid gray;flex-grow: 1;}#sk-container-id-3 div.sk-label:hover label.sk-toggleable__label {background-color: #d4ebff;}#sk-container-id-3 div.sk-serial::before {content: \"\";position: absolute;border-left: 1px solid gray;box-sizing: border-box;top: 0;bottom: 0;left: 50%;z-index: 0;}#sk-container-id-3 div.sk-serial {display: flex;flex-direction: column;align-items: center;background-color: white;padding-right: 0.2em;padding-left: 0.2em;position: relative;}#sk-container-id-3 div.sk-item {position: relative;z-index: 1;}#sk-container-id-3 div.sk-parallel {display: flex;align-items: stretch;justify-content: center;background-color: white;position: relative;}#sk-container-id-3 div.sk-item::before, #sk-container-id-3 div.sk-parallel-item::before {content: \"\";position: absolute;border-left: 1px solid gray;box-sizing: border-box;top: 0;bottom: 0;left: 50%;z-index: -1;}#sk-container-id-3 div.sk-parallel-item {display: flex;flex-direction: column;z-index: 1;position: relative;background-color: white;}#sk-container-id-3 div.sk-parallel-item:first-child::after {align-self: flex-end;width: 50%;}#sk-container-id-3 div.sk-parallel-item:last-child::after {align-self: flex-start;width: 50%;}#sk-container-id-3 div.sk-parallel-item:only-child::after {width: 0;}#sk-container-id-3 div.sk-dashed-wrapped {border: 1px dashed gray;margin: 0 0.4em 0.5em 0.4em;box-sizing: border-box;padding-bottom: 0.4em;background-color: white;}#sk-container-id-3 div.sk-label label {font-family: monospace;font-weight: bold;display: inline-block;line-height: 1.2em;}#sk-container-id-3 div.sk-label-container {text-align: center;}#sk-container-id-3 div.sk-container {/* jupyter's `normalize.less` sets `[hidden] { display: none; }` but bootstrap.min.css set `[hidden] { display: none !important; }` so we also need the `!important` here to be able to override the default hidden behavior on the sphinx rendered scikit-learn.org. See: https://github.com/scikit-learn/scikit-learn/issues/21755 */display: inline-block !important;position: relative;}#sk-container-id-3 div.sk-text-repr-fallback {display: none;}</style><div id=\"sk-container-id-3\" class=\"sk-top-container\"><div class=\"sk-text-repr-fallback\"><pre>GridSearchCV(cv=5,\n",
       "             estimator=LogisticRegression(random_state=0, solver=&#x27;liblinear&#x27;),\n",
       "             param_grid=[{&#x27;penalty&#x27;: [&#x27;l1&#x27;, &#x27;l2&#x27;]}, {&#x27;C&#x27;: [1, 10, 100, 1000]}],\n",
       "             scoring=&#x27;accuracy&#x27;)</pre><b>In a Jupyter environment, please rerun this cell to show the HTML representation or trust the notebook. <br />On GitHub, the HTML representation is unable to render, please try loading this page with nbviewer.org.</b></div><div class=\"sk-container\" hidden><div class=\"sk-item sk-dashed-wrapped\"><div class=\"sk-label-container\"><div class=\"sk-label sk-toggleable\"><input class=\"sk-toggleable__control sk-hidden--visually\" id=\"sk-estimator-id-3\" type=\"checkbox\" ><label for=\"sk-estimator-id-3\" class=\"sk-toggleable__label sk-toggleable__label-arrow\">GridSearchCV</label><div class=\"sk-toggleable__content\"><pre>GridSearchCV(cv=5,\n",
       "             estimator=LogisticRegression(random_state=0, solver=&#x27;liblinear&#x27;),\n",
       "             param_grid=[{&#x27;penalty&#x27;: [&#x27;l1&#x27;, &#x27;l2&#x27;]}, {&#x27;C&#x27;: [1, 10, 100, 1000]}],\n",
       "             scoring=&#x27;accuracy&#x27;)</pre></div></div></div><div class=\"sk-parallel\"><div class=\"sk-parallel-item\"><div class=\"sk-item\"><div class=\"sk-label-container\"><div class=\"sk-label sk-toggleable\"><input class=\"sk-toggleable__control sk-hidden--visually\" id=\"sk-estimator-id-4\" type=\"checkbox\" ><label for=\"sk-estimator-id-4\" class=\"sk-toggleable__label sk-toggleable__label-arrow\">estimator: LogisticRegression</label><div class=\"sk-toggleable__content\"><pre>LogisticRegression(random_state=0, solver=&#x27;liblinear&#x27;)</pre></div></div></div><div class=\"sk-serial\"><div class=\"sk-item\"><div class=\"sk-estimator sk-toggleable\"><input class=\"sk-toggleable__control sk-hidden--visually\" id=\"sk-estimator-id-5\" type=\"checkbox\" ><label for=\"sk-estimator-id-5\" class=\"sk-toggleable__label sk-toggleable__label-arrow\">LogisticRegression</label><div class=\"sk-toggleable__content\"><pre>LogisticRegression(random_state=0, solver=&#x27;liblinear&#x27;)</pre></div></div></div></div></div></div></div></div></div></div>"
      ],
      "text/plain": [
       "GridSearchCV(cv=5,\n",
       "             estimator=LogisticRegression(random_state=0, solver='liblinear'),\n",
       "             param_grid=[{'penalty': ['l1', 'l2']}, {'C': [1, 10, 100, 1000]}],\n",
       "             scoring='accuracy')"
      ]
     },
     "execution_count": 170,
     "metadata": {},
     "output_type": "execute_result"
    }
   ],
   "source": [
    "from sklearn.model_selection import GridSearchCV\n",
    "\n",
    "\n",
    "parameters = [{'penalty':['l1','l2']}, \n",
    "              {'C':[1, 10, 100, 1000]}]\n",
    "\n",
    "\n",
    "\n",
    "grid_search = GridSearchCV(estimator = logreg,  \n",
    "                           param_grid = parameters,\n",
    "                           scoring = 'accuracy',\n",
    "                           cv = 5,\n",
    "                           verbose=0)\n",
    "\n",
    "\n",
    "grid_search.fit(X_train, y_train)"
   ]
  },
  {
   "cell_type": "code",
   "execution_count": 171,
   "id": "2e8f4f0c",
   "metadata": {},
   "outputs": [
    {
     "name": "stdout",
     "output_type": "stream",
     "text": [
      "GridSearch CV best score : 0.9531\n",
      "\n",
      "\n",
      "Parameters that give the best results : \n",
      "\n",
      " {'C': 100}\n",
      "\n",
      "\n",
      "Estimator that was chosen by the search : \n",
      "\n",
      " LogisticRegression(C=100, random_state=0, solver='liblinear')\n"
     ]
    }
   ],
   "source": [
    "# examine the best model\n",
    "\n",
    "# best score achieved during the GridSearchCV\n",
    "print('GridSearch CV best score : {:.4f}\\n\\n'.format(grid_search.best_score_))\n",
    "\n",
    "# print parameters that give the best results\n",
    "print('Parameters that give the best results :','\\n\\n', (grid_search.best_params_))\n",
    "\n",
    "# print estimator that was chosen by the GridSearch\n",
    "print('\\n\\nEstimator that was chosen by the search :','\\n\\n', (grid_search.best_estimator_))"
   ]
  },
  {
   "cell_type": "code",
   "execution_count": 172,
   "id": "1df3d58c",
   "metadata": {},
   "outputs": [
    {
     "name": "stdout",
     "output_type": "stream",
     "text": [
      "GridSearch CV score on test set: 0.7863\n"
     ]
    }
   ],
   "source": [
    "# calculate GridSearch CV score on test set\n",
    "\n",
    "print('GridSearch CV score on test set: {0:0.4f}'.format(grid_search.score(X_test, y_test)))"
   ]
  },
  {
   "cell_type": "markdown",
   "id": "8e86ce7a",
   "metadata": {},
   "source": [
    "## <font color = darkblue> Sigmoid function"
   ]
  },
  {
   "cell_type": "code",
   "execution_count": 173,
   "id": "c54a3c73",
   "metadata": {},
   "outputs": [
    {
     "data": {
      "image/png": "[encoded data removed]",
      "text/plain": [
       "<Figure size 792x576 with 1 Axes>"
      ]
     },
     "metadata": {},
     "output_type": "display_data"
    }
   ],
   "source": [
    "import numpy as np\n",
    "import matplotlib.pyplot as plt\n",
    "import seaborn as sns\n",
    "\n",
    "x = np.arange(-10, 10, 0.1)\n",
    "y = 1 / (1 + np.exp(-x))\n",
    "\n",
    "sns.lineplot(x, y, color = 'red')\n",
    "plt.title('Sigmoid Function')\n",
    "plt.show()\n",
    "\n"
   ]
  },
  {
   "attachments": {},
   "cell_type": "markdown",
   "id": "f36b998a",
   "metadata": {},
   "source": [
    "## Optimization run\n",
    "Now that I have a baseline result of around 0.72 unstandardized and 0.92 standardized, let's run an elimation method to identify what features in the feature space could be removed to improve accuracy. "
   ]
  },
  {
   "cell_type": "code",
   "execution_count": 181,
   "id": "692f1bd9",
   "metadata": {},
   "outputs": [
    {
     "name": "stdout",
     "output_type": "stream",
     "text": [
      "                            OLS Regression Results                            \n",
      "==============================================================================\n",
      "Dep. Variable:               Survived   R-squared:                       0.667\n",
      "Model:                            OLS   Adj. R-squared:                  0.664\n",
      "Method:                 Least Squares   F-statistic:                     199.2\n",
      "Date:                Wed, 22 Feb 2023   Prob (F-statistic):          2.91e-297\n",
      "Time:                        00:49:37   Log-Likelihood:                -191.78\n",
      "No. Observations:                1306   AIC:                             411.6\n",
      "Df Residuals:                    1292   BIC:                             484.0\n",
      "Df Model:                          13                                         \n",
      "Covariance Type:            nonrobust                                         \n",
      "========================================================================================\n",
      "                           coef    std err          t      P>|t|      [0.025      0.975]\n",
      "----------------------------------------------------------------------------------------\n",
      "const                    0.6447      0.053     12.090      0.000       0.540       0.749\n",
      "Passenger Class         -0.0355      0.015     -2.325      0.020      -0.065      -0.006\n",
      "Name                  2.326e-05   2.13e-05      1.091      0.275   -1.86e-05    6.51e-05\n",
      "Sex                     -0.2950      0.018    -16.418      0.000      -0.330      -0.260\n",
      "Age                     -0.0037      0.006     -0.598      0.550      -0.016       0.008\n",
      "Siblings and Spouses    -0.0215      0.008     -2.589      0.010      -0.038      -0.005\n",
      "Parents and Children    -0.0019      0.010     -0.190      0.850      -0.022       0.018\n",
      "Ticket #              1.411e-05   3.04e-05      0.465      0.642   -4.55e-05    7.37e-05\n",
      "Fare                     0.0002      0.000      0.996      0.319      -0.000       0.001\n",
      "Cabin                    0.0004      0.000      2.230      0.026    5.24e-05       0.001\n",
      "Port                    -0.0029      0.010     -0.284      0.777      -0.023       0.017\n",
      "Lifeboat                 0.0371      0.001     33.378      0.000       0.035       0.039\n",
      "Destination             -0.0004   8.36e-05     -4.554      0.000      -0.001      -0.000\n",
      "Midpoint age             0.0004      0.006      0.058      0.953      -0.012       0.012\n",
      "==============================================================================\n",
      "Omnibus:                      151.674   Durbin-Watson:                   1.821\n",
      "Prob(Omnibus):                  0.000   Jarque-Bera (JB):              233.255\n",
      "Skew:                           0.818   Prob(JB):                     2.24e-51\n",
      "Kurtosis:                       4.269   Cond. No.                     6.36e+03\n",
      "==============================================================================\n",
      "\n",
      "Notes:\n",
      "[1] Standard Errors assume that the covariance matrix of the errors is correctly specified.\n",
      "[2] The condition number is large, 6.36e+03. This might indicate that there are\n",
      "strong multicollinearity or other numerical problems.\n"
     ]
    }
   ],
   "source": [
    "import statsmodels.api as sm\n",
    "# OLS = ordinary least squares\n",
    "from sklearn.preprocessing import StandardScaler\n",
    "\n",
    "scaler = StandardScaler()\n",
    "\n",
    "#scaler.fit(X)\n",
    "#X = scaler.transform(X.values)\n",
    "X_stand = sm.add_constant(X)\n",
    "\n",
    "OLSmodel = sm.OLS( y, X_stand)\n",
    "results = OLSmodel.fit()\n",
    "print(results.summary())"
   ]
  },
  {
   "attachments": {},
   "cell_type": "markdown",
   "id": "0138cbcf",
   "metadata": {},
   "source": [
    "According to the above, we should remove the following categories based on high p-values. \n",
    "- Midpoint age\n",
    "- Port\n",
    "- Fare\n",
    "- Ticket Number\n",
    "- Parents and Children\n",
    "- Age\n",
    "- Name\n",
    "\n",
    "Let's try it and see if our accuracy improves!"
   ]
  },
  {
   "cell_type": "code",
   "execution_count": 241,
   "id": "cf450de3",
   "metadata": {},
   "outputs": [
    {
     "name": "stdout",
     "output_type": "stream",
     "text": [
      "0       Yes\n",
      "1       Yes\n",
      "2        No\n",
      "3        No\n",
      "4        No\n",
      "       ... \n",
      "1304     No\n",
      "1305     No\n",
      "1306     No\n",
      "1307     No\n",
      "1308     No\n",
      "Name: Survived, Length: 1307, dtype: object\n",
      "0       female\n",
      "1         male\n",
      "2       female\n",
      "3         male\n",
      "4       female\n",
      "         ...  \n",
      "1304    female\n",
      "1305    female\n",
      "1306      male\n",
      "1307      male\n",
      "1308      male\n",
      "Name: Sex, Length: 1307, dtype: object\n",
      "0            B5\n",
      "1       C22 C26\n",
      "2       C22 C26\n",
      "3       C22 C26\n",
      "4       C22 C26\n",
      "         ...   \n",
      "1304          0\n",
      "1305          0\n",
      "1306          0\n",
      "1307          0\n",
      "1308          0\n",
      "Name: Cabin, Length: 1307, dtype: object\n",
      "0        2\n",
      "1       11\n",
      "2        0\n",
      "3        0\n",
      "4        0\n",
      "        ..\n",
      "1304     0\n",
      "1305     0\n",
      "1306     0\n",
      "1307     0\n",
      "1308     0\n",
      "Name: Lifeboat, Length: 1307, dtype: object\n",
      "0                          St Louis, MO\n",
      "1       Montreal, PQ / Chesterville, ON\n",
      "2       Montreal, PQ / Chesterville, ON\n",
      "3       Montreal, PQ / Chesterville, ON\n",
      "4       Montreal, PQ / Chesterville, ON\n",
      "                     ...               \n",
      "1304                            Unknown\n",
      "1305                            Unknown\n",
      "1306                            Unknown\n",
      "1307                            Unknown\n",
      "1308                            Unknown\n",
      "Name: Destination, Length: 1307, dtype: object\n",
      "<bound method NDFrame.head of       Passenger Class  Survived  Sex  Siblings and Spouses  Cabin  Lifeboat  \\\n",
      "0                   1         1    0                     0     43        12   \n",
      "1                   1         1    1                     1     79         3   \n",
      "2                   1         0    0                     1     79         0   \n",
      "3                   1         0    1                     1     79         0   \n",
      "4                   1         0    0                     1     79         0   \n",
      "...               ...       ...  ...                   ...    ...       ...   \n",
      "1304                3         0    0                     1      0         0   \n",
      "1305                3         0    0                     1      0         0   \n",
      "1306                3         0    1                     0      0         0   \n",
      "1307                3         0    1                     0      0         0   \n",
      "1308                3         0    1                     0      0         0   \n",
      "\n",
      "      Destination  \n",
      "0             307  \n",
      "1             229  \n",
      "2             229  \n",
      "3             229  \n",
      "4             229  \n",
      "...           ...  \n",
      "1304          341  \n",
      "1305          341  \n",
      "1306          341  \n",
      "1307          341  \n",
      "1308          341  \n",
      "\n",
      "[1307 rows x 7 columns]>\n",
      "(1045, 6)\n",
      "(262, 6)\n"
     ]
    }
   ],
   "source": [
    "from sklearn.linear_model import LinearRegression\n",
    "from sklearn.model_selection import train_test_split\n",
    "from sklearn.preprocessing import LabelEncoder\n",
    "from sklearn.impute import SimpleImputer\n",
    "from sklearn.impute import KNNImputer\n",
    "\n",
    "ct = pd.read_csv(\"Titanic_Passengers.csv\")\n",
    "ct = ct.iloc[:, :]\n",
    "\n",
    "# impute tools\n",
    "meanImputer = SimpleImputer(strategy='mean')\n",
    "\n",
    "#Clean column title\n",
    "ct2 = ct.rename(columns={'Home / Destination': \"Destination\"})\n",
    "ct2['Destination'].fillna(\"Unknown\", inplace=True)\n",
    "ct2['Destination'] = ct2['Destination'].astype(str)\n",
    "#ct2 = ct2.drop(columns=[\"Body\"])\n",
    "ct2.dropna(subset=[\"Port\"], inplace=True)\n",
    "ct2['Lifeboat'].fillna(\"0\", inplace=True)\n",
    "ct2['Lifeboat'] = ct2['Lifeboat'].astype(str)\n",
    "ct2['Cabin'].fillna(\"0\", inplace=True)\n",
    "\n",
    "#ct2.dropna( inplace = True)\n",
    "\n",
    "ct2 = ct2.drop(columns=[\"Body\", \"Midpoint age\", \"Port\", \"Fare\", \"Ticket #\", \"Parents and Children\", \"Age\", \"Name\"])\n",
    "\n",
    "\n",
    "# Encode and standardize categorical variables\n",
    "for i in ct2:\n",
    "    if ct2[i].dtype == \"object\":\n",
    "        encode = LabelEncoder()\n",
    "        print(ct2[i])\n",
    "        ct2[i] = encode.fit_transform(ct2[i])\n",
    "print(ct2.head) \n",
    "\n",
    "# Declaring the response column and the feature space\n",
    "\n",
    "X = ct2.iloc[:, ct2.columns != 'Survived']\n",
    "#print(X)\n",
    "y = ct2[\"Survived\"]\n",
    "\n",
    "X_train, X_test, y_train, y_test = train_test_split(X, y, test_size=0.2, random_state=0)\n",
    "\n",
    "\n",
    "\n",
    "print(X_train.shape)\n",
    "print(X_test.shape)"
   ]
  },
  {
   "cell_type": "code",
   "execution_count": 242,
   "id": "fa2cabc2",
   "metadata": {},
   "outputs": [],
   "source": [
    "from sklearn.preprocessing import MinMaxScaler\n",
    "\n",
    "scaler = MinMaxScaler()\n",
    "X_train_minmax = scaler.fit_transform(X_train)\n",
    "X_test = scaler.transform(X_test)"
   ]
  },
  {
   "cell_type": "code",
   "execution_count": 243,
   "id": "1efe2e62",
   "metadata": {},
   "outputs": [
    {
     "data": {
      "text/html": [
       "<style>#sk-container-id-11 {color: black;background-color: white;}#sk-container-id-11 pre{padding: 0;}#sk-container-id-11 div.sk-toggleable {background-color: white;}#sk-container-id-11 label.sk-toggleable__label {cursor: pointer;display: block;width: 100%;margin-bottom: 0;padding: 0.3em;box-sizing: border-box;text-align: center;}#sk-container-id-11 label.sk-toggleable__label-arrow:before {content: \"▸\";float: left;margin-right: 0.25em;color: #696969;}#sk-container-id-11 label.sk-toggleable__label-arrow:hover:before {color: black;}#sk-container-id-11 div.sk-estimator:hover label.sk-toggleable__label-arrow:before {color: black;}#sk-container-id-11 div.sk-toggleable__content {max-height: 0;max-width: 0;overflow: hidden;text-align: left;background-color: #f0f8ff;}#sk-container-id-11 div.sk-toggleable__content pre {margin: 0.2em;color: black;border-radius: 0.25em;background-color: #f0f8ff;}#sk-container-id-11 input.sk-toggleable__control:checked~div.sk-toggleable__content {max-height: 200px;max-width: 100%;overflow: auto;}#sk-container-id-11 input.sk-toggleable__control:checked~label.sk-toggleable__label-arrow:before {content: \"▾\";}#sk-container-id-11 div.sk-estimator input.sk-toggleable__control:checked~label.sk-toggleable__label {background-color: #d4ebff;}#sk-container-id-11 div.sk-label input.sk-toggleable__control:checked~label.sk-toggleable__label {background-color: #d4ebff;}#sk-container-id-11 input.sk-hidden--visually {border: 0;clip: rect(1px 1px 1px 1px);clip: rect(1px, 1px, 1px, 1px);height: 1px;margin: -1px;overflow: hidden;padding: 0;position: absolute;width: 1px;}#sk-container-id-11 div.sk-estimator {font-family: monospace;background-color: #f0f8ff;border: 1px dotted black;border-radius: 0.25em;box-sizing: border-box;margin-bottom: 0.5em;}#sk-container-id-11 div.sk-estimator:hover {background-color: #d4ebff;}#sk-container-id-11 div.sk-parallel-item::after {content: \"\";width: 100%;border-bottom: 1px solid gray;flex-grow: 1;}#sk-container-id-11 div.sk-label:hover label.sk-toggleable__label {background-color: #d4ebff;}#sk-container-id-11 div.sk-serial::before {content: \"\";position: absolute;border-left: 1px solid gray;box-sizing: border-box;top: 0;bottom: 0;left: 50%;z-index: 0;}#sk-container-id-11 div.sk-serial {display: flex;flex-direction: column;align-items: center;background-color: white;padding-right: 0.2em;padding-left: 0.2em;position: relative;}#sk-container-id-11 div.sk-item {position: relative;z-index: 1;}#sk-container-id-11 div.sk-parallel {display: flex;align-items: stretch;justify-content: center;background-color: white;position: relative;}#sk-container-id-11 div.sk-item::before, #sk-container-id-11 div.sk-parallel-item::before {content: \"\";position: absolute;border-left: 1px solid gray;box-sizing: border-box;top: 0;bottom: 0;left: 50%;z-index: -1;}#sk-container-id-11 div.sk-parallel-item {display: flex;flex-direction: column;z-index: 1;position: relative;background-color: white;}#sk-container-id-11 div.sk-parallel-item:first-child::after {align-self: flex-end;width: 50%;}#sk-container-id-11 div.sk-parallel-item:last-child::after {align-self: flex-start;width: 50%;}#sk-container-id-11 div.sk-parallel-item:only-child::after {width: 0;}#sk-container-id-11 div.sk-dashed-wrapped {border: 1px dashed gray;margin: 0 0.4em 0.5em 0.4em;box-sizing: border-box;padding-bottom: 0.4em;background-color: white;}#sk-container-id-11 div.sk-label label {font-family: monospace;font-weight: bold;display: inline-block;line-height: 1.2em;}#sk-container-id-11 div.sk-label-container {text-align: center;}#sk-container-id-11 div.sk-container {/* jupyter's `normalize.less` sets `[hidden] { display: none; }` but bootstrap.min.css set `[hidden] { display: none !important; }` so we also need the `!important` here to be able to override the default hidden behavior on the sphinx rendered scikit-learn.org. See: https://github.com/scikit-learn/scikit-learn/issues/21755 */display: inline-block !important;position: relative;}#sk-container-id-11 div.sk-text-repr-fallback {display: none;}</style><div id=\"sk-container-id-11\" class=\"sk-top-container\"><div class=\"sk-text-repr-fallback\"><pre>LogisticRegression(random_state=0, solver=&#x27;liblinear&#x27;)</pre><b>In a Jupyter environment, please rerun this cell to show the HTML representation or trust the notebook. <br />On GitHub, the HTML representation is unable to render, please try loading this page with nbviewer.org.</b></div><div class=\"sk-container\" hidden><div class=\"sk-item\"><div class=\"sk-estimator sk-toggleable\"><input class=\"sk-toggleable__control sk-hidden--visually\" id=\"sk-estimator-id-13\" type=\"checkbox\" checked><label for=\"sk-estimator-id-13\" class=\"sk-toggleable__label sk-toggleable__label-arrow\">LogisticRegression</label><div class=\"sk-toggleable__content\"><pre>LogisticRegression(random_state=0, solver=&#x27;liblinear&#x27;)</pre></div></div></div></div></div>"
      ],
      "text/plain": [
       "LogisticRegression(random_state=0, solver='liblinear')"
      ]
     },
     "execution_count": 243,
     "metadata": {},
     "output_type": "execute_result"
    }
   ],
   "source": [
    "# train a logistic regression model on the training set\n",
    "from sklearn.linear_model import LogisticRegression\n",
    "\n",
    "# instantiate the model\n",
    "logreg = LogisticRegression(solver='liblinear', random_state=0)\n",
    "\n",
    "# fit the model\n",
    "logreg.fit(X_train, y_train)"
   ]
  },
  {
   "cell_type": "code",
   "execution_count": 244,
   "id": "cf514e05",
   "metadata": {},
   "outputs": [
    {
     "data": {
      "text/plain": [
       "array([0.90130441, 0.89407951, 0.89250839, 0.90754993, 0.47139273,\n",
       "       0.32225057, 0.83735145, 0.87551852, 0.88223989, 0.90754993,\n",
       "       0.41445079, 0.40699792, 0.85814179, 0.31194224, 0.87723836,\n",
       "       0.40865857, 0.49672125, 0.81725966, 0.26748219, 0.90754993,\n",
       "       0.47560746, 0.90138154, 0.90754993, 0.31000077, 0.90754993,\n",
       "       0.90754993, 0.82416152, 0.9089587 , 0.90754993, 0.32966013,\n",
       "       0.41033121, 0.30656341, 0.91306972, 0.87550027, 0.37403482,\n",
       "       0.90754993, 0.32595408, 0.87556392, 0.90754993, 0.89243096,\n",
       "       0.46718208, 0.85813033, 0.30128261, 0.35076156, 0.9089587 ,\n",
       "       0.32225057, 0.90754993, 0.28171251, 0.88311286, 0.90754993,\n",
       "       0.43769123, 0.90754993, 0.89263669, 0.4629761 , 0.43337455,\n",
       "       0.30542549, 0.28629738, 0.46714359, 0.88771712, 0.31194224,\n",
       "       0.89406678, 0.87557266, 0.47560746, 0.90736415, 0.4629761 ,\n",
       "       0.42588956, 0.89245742, 0.89250517, 0.88586276, 0.46252475,\n",
       "       0.37597051, 0.90725037, 0.83733438, 0.4629761 , 0.90746188,\n",
       "       0.27705561, 0.87707848, 0.87559981, 0.90754993, 0.40458432,\n",
       "       0.8756136 , 0.89584073, 0.89262123, 0.42597505, 0.9087894 ,\n",
       "       0.30707071, 0.9074167 , 0.4629761 , 0.90754993, 0.84409245,\n",
       "       0.4629761 , 0.90754993, 0.90754993, 0.41033121, 0.90754993,\n",
       "       0.87544321, 0.90754993, 0.89570701, 0.90754993, 0.31006496,\n",
       "       0.89260383, 0.46718208, 0.47550181, 0.90736415, 0.9011925 ,\n",
       "       0.43309388, 0.86932194, 0.89419153, 0.91171839, 0.87527936,\n",
       "       0.36525526, 0.46721054, 0.40447574, 0.8754034 , 0.90754993,\n",
       "       0.89257417, 0.90754993, 0.29032049, 0.90754993, 0.90754993,\n",
       "       0.87553196, 0.84700254, 0.8771917 , 0.40292403, 0.30542549,\n",
       "       0.38007995, 0.90738902, 0.43354958, 0.24526919, 0.43354958,\n",
       "       0.90754993, 0.87562398, 0.40284147, 0.9075093 , 0.79885243,\n",
       "       0.90754993, 0.4629761 , 0.85239519, 0.89415335, 0.4629761 ,\n",
       "       0.40286573, 0.30547513, 0.4797921 , 0.42187422, 0.87556392,\n",
       "       0.26796967, 0.90754993, 0.90754993, 0.90754993, 0.87559762,\n",
       "       0.47560746, 0.30492646, 0.90754993, 0.89243096, 0.8879381 ,\n",
       "       0.4629761 , 0.2900906 , 0.315269  , 0.90749914, 0.39869738,\n",
       "       0.40688264, 0.87527941, 0.89235058, 0.81704654, 0.32966013,\n",
       "       0.89411453, 0.87516329, 0.343122  , 0.46718208, 0.84719937,\n",
       "       0.89250065, 0.87549159, 0.31146357, 0.4629761 , 0.25107757,\n",
       "       0.90754993, 0.90754993, 0.81978313, 0.90754993, 0.28527125,\n",
       "       0.39680852, 0.89251936, 0.41405106, 0.90754993, 0.89233507,\n",
       "       0.90754993, 0.87554048, 0.84630443, 0.89246516, 0.90754993,\n",
       "       0.87537496, 0.47560746, 0.87511804, 0.91306972, 0.87740004,\n",
       "       0.40294182, 0.88655823, 0.90754993, 0.90754993, 0.38022572,\n",
       "       0.89584073, 0.4629761 , 0.90754993, 0.31705306, 0.37601626,\n",
       "       0.39887632, 0.90754993, 0.27706649, 0.31480412, 0.90754993,\n",
       "       0.81575496, 0.87550457, 0.90754993, 0.88798357, 0.30542549,\n",
       "       0.4629761 , 0.90754993, 0.90754993, 0.32223442, 0.84630443,\n",
       "       0.87717207, 0.91305958, 0.81575496, 0.89249871, 0.30144142,\n",
       "       0.46718208, 0.89706805, 0.4045794 , 0.90754993, 0.32225057,\n",
       "       0.89253032, 0.87527079, 0.90754993, 0.90754993, 0.90749858,\n",
       "       0.90754993, 0.40940995, 0.90754993, 0.90736076, 0.89264443,\n",
       "       0.89263992, 0.39308183, 0.90754993, 0.4629761 , 0.46718208,\n",
       "       0.4629761 , 0.27732093, 0.87557607, 0.8942564 , 0.90723837,\n",
       "       0.89028484, 0.90754993, 0.88222449, 0.46689588, 0.83743852,\n",
       "       0.35858866, 0.32225057, 0.39307221, 0.43333658, 0.90754993,\n",
       "       0.89254   , 0.90896815])"
      ]
     },
     "execution_count": 244,
     "metadata": {},
     "output_type": "execute_result"
    }
   ],
   "source": [
    "# probability of getting output as 0 - no rain\n",
    "\n",
    "logreg.predict_proba(X_test)[:,0]"
   ]
  },
  {
   "cell_type": "code",
   "execution_count": 245,
   "id": "5a2fd310",
   "metadata": {},
   "outputs": [
    {
     "data": {
      "text/plain": [
       "array([0, 0, 0, 0, 1, 1, 0, 0, 0, 0, 1, 1, 0, 1, 0, 1, 1, 0, 1, 0, 1, 0,\n",
       "       0, 1, 0, 0, 0, 0, 0, 1, 1, 1, 0, 0, 1, 0, 1, 0, 0, 0, 1, 0, 1, 1,\n",
       "       0, 1, 0, 1, 0, 0, 1, 0, 0, 1, 1, 1, 1, 1, 0, 1, 0, 0, 1, 0, 1, 1,\n",
       "       0, 0, 0, 1, 1, 0, 0, 1, 0, 1, 0, 0, 0, 1, 0, 0, 0, 1, 0, 1, 0, 1,\n",
       "       0, 0, 1, 0, 0, 1, 0, 0, 0, 0, 0, 1, 0, 1, 1, 0, 0, 1, 0, 0, 0, 0,\n",
       "       1, 1, 1, 0, 0, 0, 0, 1, 0, 0, 0, 0, 0, 1, 1, 1, 0, 1, 1, 1, 0, 0,\n",
       "       1, 0, 0, 0, 1, 0, 0, 1, 1, 1, 1, 1, 0, 1, 0, 0, 0, 0, 1, 1, 0, 0,\n",
       "       0, 1, 1, 1, 0, 1, 1, 0, 0, 0, 1, 0, 0, 1, 1, 0, 0, 0, 1, 1, 1, 0,\n",
       "       0, 0, 0, 1, 1, 0, 1, 0, 0, 0, 0, 0, 0, 0, 0, 1, 0, 0, 0, 1, 0, 0,\n",
       "       0, 1, 0, 1, 0, 1, 1, 1, 0, 1, 1, 0, 0, 0, 0, 0, 1, 1, 0, 0, 1, 0,\n",
       "       0, 0, 0, 0, 1, 1, 0, 1, 0, 1, 0, 0, 0, 0, 0, 0, 1, 0, 0, 0, 0, 1,\n",
       "       0, 1, 1, 1, 1, 0, 0, 0, 0, 0, 0, 1, 0, 1, 1, 1, 1, 0, 0, 0])"
      ]
     },
     "execution_count": 245,
     "metadata": {},
     "output_type": "execute_result"
    }
   ],
   "source": [
    "y_pred_test = logreg.predict(X_test)\n",
    "\n",
    "y_pred_test"
   ]
  },
  {
   "cell_type": "code",
   "execution_count": 246,
   "id": "807e9a48",
   "metadata": {},
   "outputs": [
    {
     "name": "stdout",
     "output_type": "stream",
     "text": [
      "Model accuracy score: 0.7748\n"
     ]
    }
   ],
   "source": [
    "from sklearn.metrics import accuracy_score\n",
    "\n",
    "print('Model accuracy score: {0:0.4f}'. format(accuracy_score(y_test, y_pred_test)))"
   ]
  },
  {
   "attachments": {},
   "cell_type": "markdown",
   "id": "2203fb9b",
   "metadata": {},
   "source": [
    "## Analysis:\n",
    "\n",
    "The original result of the unstandardized data was a model that produced about a .72 accuracy score. After standardization, this went up to .92, which seems too high. I believe it is too high because I standardized on the categorical data which I had previously encoded, but I am not 100% sure. For the task at hand, identifying what is the combination of deatures that provides the most accurate prediction, it shouldn't matter too much.\n",
    "\n",
    "By removing the following columns based on p_value:\n",
    "- Midpoint age\n",
    "- Port\n",
    "- Fare\n",
    "- Ticket Number\n",
    "- Parents and Children\n",
    "- Age\n",
    "- Name\n",
    "\n",
    "The accuracy on the unstandardized data went up to 0.77 and the standardized data stayed at about .85, which likely points to a failure in my data cleaning. Given the results on the unstandardized data, I believe that removing the columns did improve the overall accuracy of the model. "
   ]
  }
 ],
 "metadata": {
  "kernelspec": {
   "display_name": "base",
   "language": "python",
   "name": "python3"
  },
  "language_info": {
   "codemirror_mode": {
    "name": "ipython",
    "version": 3
   },
   "file_extension": ".py",
   "mimetype": "text/x-python",
   "name": "python",
   "nbconvert_exporter": "python",
   "pygments_lexer": "ipython3",
   "version": "3.9.12"
  },
  "vscode": {
   "interpreter": {
    "hash": "df250b5f6f55ceb2760a6cdcd6e36d176b9e41f612fd931b8243351af70c7aaf"
   }
  }
 },
 "nbformat": 4,
 "nbformat_minor": 5
}
